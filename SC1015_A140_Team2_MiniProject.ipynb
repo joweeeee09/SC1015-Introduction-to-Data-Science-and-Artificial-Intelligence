{
  "cells": [
    {
      "cell_type": "markdown",
      "metadata": {
        "id": "view-in-github",
        "colab_type": "text"
      },
      "source": [
        "<a href=\"https://colab.research.google.com/github/joweeeee09/SC1015-Introduction-to-Data-Science-and-Artificial-Intelligence/blob/main/SC1015_A140_Team2_MiniProject.ipynb\" target=\"_parent\"><img src=\"https://colab.research.google.com/assets/colab-badge.svg\" alt=\"Open In Colab\"/></a>"
      ]
    },
    {
      "cell_type": "markdown",
      "metadata": {
        "id": "fUlxEozFoqmd"
      },
      "source": [
        "# SC1015 A140 Team 2\n",
        "# Team members:\n",
        "## Park Jihae\n",
        "## Ang Jo Wee\n",
        "## Leong Mininn Miko\n",
        "# Mini Project - Mushroom Classification\n",
        "# Dataset:\n",
        "## https://www.kaggle.com/datasets/uciml/mushroom-classification"
      ]
    },
    {
      "cell_type": "markdown",
      "metadata": {
        "id": "RDAzOIr1sqKv"
      },
      "source": [
        "## Problem Statement\n",
        "Mushroom hunting, or \"shrooming\", has become increasingly popular as a recreational activity. However, correctly identifying edible mushrooms from poisonous ones can be challenging, even for experienced mushroom hunters. This poses a risk to the safety of mushroom hunters and their companions, as well as the general public if contaminated mushrooms are consumed.\n",
        "\n",
        "The goal of this project is to develop an accurate and reliable machine learning model for mushroom classification that classifies edibile and poisonous mushrooms, enhancing the safety of mushroom hunting activities.\n",
        "\n",
        "We would like to find out using which learning algorithm will create the most accurate model. We are comparing 3 models:\n",
        "- Logistic Regression\n",
        "- Random Forest\n",
        "- Support Vector Machines (SVM)"
      ]
    },
    {
      "cell_type": "markdown",
      "metadata": {
        "id": "pdawsqOSuHmO"
      },
      "source": [
        "## Import Warnings"
      ]
    },
    {
      "cell_type": "code",
      "execution_count": null,
      "metadata": {
        "id": "nK17oJHIuF0j"
      },
      "outputs": [],
      "source": [
        "# Suppress Future Warnings\n",
        "import warnings\n",
        "# warnings.simplefilter(action='ignore', category=FutureWarning)\n",
        "warnings.filterwarnings('ignore')"
      ]
    },
    {
      "cell_type": "code",
      "execution_count": null,
      "metadata": {
        "colab": {
          "base_uri": "https://localhost:8080/"
        },
        "id": "4uandLXouF0k",
        "outputId": "7cf03ed3-1c33-4b6c-bccf-1a74685baa49"
      },
      "outputs": [
        {
          "output_type": "stream",
          "name": "stdout",
          "text": [
            "************************\n",
            "        Versions        \n",
            "************************\n",
            "Scikit-learn version = 1.2.2\n",
            "Numpy version = 1.22.4 \n",
            "Pandas version = 1.5.3\n",
            "Matplotlib version = 3.7.1\n",
            "Python version = 3.9.16\n",
            "Seaborn version = 0.12.2\n"
          ]
        }
      ],
      "source": [
        "# Importing required libraries\n",
        "import sklearn\n",
        "import numpy as np\n",
        "import pandas as pd\n",
        "import matplotlib\n",
        "import platform\n",
        "from sklearn import datasets\n",
        "from matplotlib import pyplot as plt\n",
        "import seaborn as sns\n",
        "%matplotlib inline\n",
        "\n",
        "message=\"        Versions        \"\n",
        "print(\"*\"*len(message))\n",
        "print(message)\n",
        "print(\"*\"*len(message))\n",
        "print(\"Scikit-learn version = {}\".format(sklearn.__version__))\n",
        "print(\"Numpy version = {} \".format(np.__version__))\n",
        "print(\"Pandas version = {}\".format(pd.__version__))\n",
        "print(\"Matplotlib version = {}\".format(matplotlib.__version__))\n",
        "print(\"Python version = {}\".format(platform.python_version()))\n",
        "print(\"Seaborn version = {}\".format(sns.__version__))"
      ]
    },
    {
      "cell_type": "markdown",
      "metadata": {
        "id": "XZO-EQ5zuF0k"
      },
      "source": [
        "## Data Importing: data.csv"
      ]
    },
    {
      "cell_type": "code",
      "execution_count": null,
      "metadata": {
        "colab": {
          "base_uri": "https://localhost:8080/",
          "height": 388
        },
        "id": "f4cfvSpKuOYT",
        "outputId": "05c70e95-6249-40a6-84ab-115ffd874e41"
      },
      "outputs": [
        {
          "output_type": "stream",
          "name": "stdout",
          "text": [
            "Loaded successfully.\n",
            "\n"
          ]
        },
        {
          "output_type": "execute_result",
          "data": {
            "text/plain": [
              "  class cap-shape cap-surface cap-color bruises odor gill-attachment  \\\n",
              "0     p         x           s         n       t    p               f   \n",
              "1     e         x           s         y       t    a               f   \n",
              "2     e         b           s         w       t    l               f   \n",
              "3     p         x           y         w       t    p               f   \n",
              "4     e         x           s         g       f    n               f   \n",
              "\n",
              "  gill-spacing gill-size gill-color  ... stalk-surface-below-ring  \\\n",
              "0            c         n          k  ...                        s   \n",
              "1            c         b          k  ...                        s   \n",
              "2            c         b          n  ...                        s   \n",
              "3            c         n          n  ...                        s   \n",
              "4            w         b          k  ...                        s   \n",
              "\n",
              "  stalk-color-above-ring stalk-color-below-ring veil-type veil-color  \\\n",
              "0                      w                      w         p          w   \n",
              "1                      w                      w         p          w   \n",
              "2                      w                      w         p          w   \n",
              "3                      w                      w         p          w   \n",
              "4                      w                      w         p          w   \n",
              "\n",
              "  ring-number ring-type spore-print-color population habitat  \n",
              "0           o         p                 k          s       u  \n",
              "1           o         p                 n          n       g  \n",
              "2           o         p                 n          n       m  \n",
              "3           o         p                 k          s       u  \n",
              "4           o         e                 n          a       g  \n",
              "\n",
              "[5 rows x 23 columns]"
            ],
            "text/html": [
              "\n",
              "  <div id=\"df-4b3be1df-e230-483f-8a79-894e70c2de89\">\n",
              "    <div class=\"colab-df-container\">\n",
              "      <div>\n",
              "<style scoped>\n",
              "    .dataframe tbody tr th:only-of-type {\n",
              "        vertical-align: middle;\n",
              "    }\n",
              "\n",
              "    .dataframe tbody tr th {\n",
              "        vertical-align: top;\n",
              "    }\n",
              "\n",
              "    .dataframe thead th {\n",
              "        text-align: right;\n",
              "    }\n",
              "</style>\n",
              "<table border=\"1\" class=\"dataframe\">\n",
              "  <thead>\n",
              "    <tr style=\"text-align: right;\">\n",
              "      <th></th>\n",
              "      <th>class</th>\n",
              "      <th>cap-shape</th>\n",
              "      <th>cap-surface</th>\n",
              "      <th>cap-color</th>\n",
              "      <th>bruises</th>\n",
              "      <th>odor</th>\n",
              "      <th>gill-attachment</th>\n",
              "      <th>gill-spacing</th>\n",
              "      <th>gill-size</th>\n",
              "      <th>gill-color</th>\n",
              "      <th>...</th>\n",
              "      <th>stalk-surface-below-ring</th>\n",
              "      <th>stalk-color-above-ring</th>\n",
              "      <th>stalk-color-below-ring</th>\n",
              "      <th>veil-type</th>\n",
              "      <th>veil-color</th>\n",
              "      <th>ring-number</th>\n",
              "      <th>ring-type</th>\n",
              "      <th>spore-print-color</th>\n",
              "      <th>population</th>\n",
              "      <th>habitat</th>\n",
              "    </tr>\n",
              "  </thead>\n",
              "  <tbody>\n",
              "    <tr>\n",
              "      <th>0</th>\n",
              "      <td>p</td>\n",
              "      <td>x</td>\n",
              "      <td>s</td>\n",
              "      <td>n</td>\n",
              "      <td>t</td>\n",
              "      <td>p</td>\n",
              "      <td>f</td>\n",
              "      <td>c</td>\n",
              "      <td>n</td>\n",
              "      <td>k</td>\n",
              "      <td>...</td>\n",
              "      <td>s</td>\n",
              "      <td>w</td>\n",
              "      <td>w</td>\n",
              "      <td>p</td>\n",
              "      <td>w</td>\n",
              "      <td>o</td>\n",
              "      <td>p</td>\n",
              "      <td>k</td>\n",
              "      <td>s</td>\n",
              "      <td>u</td>\n",
              "    </tr>\n",
              "    <tr>\n",
              "      <th>1</th>\n",
              "      <td>e</td>\n",
              "      <td>x</td>\n",
              "      <td>s</td>\n",
              "      <td>y</td>\n",
              "      <td>t</td>\n",
              "      <td>a</td>\n",
              "      <td>f</td>\n",
              "      <td>c</td>\n",
              "      <td>b</td>\n",
              "      <td>k</td>\n",
              "      <td>...</td>\n",
              "      <td>s</td>\n",
              "      <td>w</td>\n",
              "      <td>w</td>\n",
              "      <td>p</td>\n",
              "      <td>w</td>\n",
              "      <td>o</td>\n",
              "      <td>p</td>\n",
              "      <td>n</td>\n",
              "      <td>n</td>\n",
              "      <td>g</td>\n",
              "    </tr>\n",
              "    <tr>\n",
              "      <th>2</th>\n",
              "      <td>e</td>\n",
              "      <td>b</td>\n",
              "      <td>s</td>\n",
              "      <td>w</td>\n",
              "      <td>t</td>\n",
              "      <td>l</td>\n",
              "      <td>f</td>\n",
              "      <td>c</td>\n",
              "      <td>b</td>\n",
              "      <td>n</td>\n",
              "      <td>...</td>\n",
              "      <td>s</td>\n",
              "      <td>w</td>\n",
              "      <td>w</td>\n",
              "      <td>p</td>\n",
              "      <td>w</td>\n",
              "      <td>o</td>\n",
              "      <td>p</td>\n",
              "      <td>n</td>\n",
              "      <td>n</td>\n",
              "      <td>m</td>\n",
              "    </tr>\n",
              "    <tr>\n",
              "      <th>3</th>\n",
              "      <td>p</td>\n",
              "      <td>x</td>\n",
              "      <td>y</td>\n",
              "      <td>w</td>\n",
              "      <td>t</td>\n",
              "      <td>p</td>\n",
              "      <td>f</td>\n",
              "      <td>c</td>\n",
              "      <td>n</td>\n",
              "      <td>n</td>\n",
              "      <td>...</td>\n",
              "      <td>s</td>\n",
              "      <td>w</td>\n",
              "      <td>w</td>\n",
              "      <td>p</td>\n",
              "      <td>w</td>\n",
              "      <td>o</td>\n",
              "      <td>p</td>\n",
              "      <td>k</td>\n",
              "      <td>s</td>\n",
              "      <td>u</td>\n",
              "    </tr>\n",
              "    <tr>\n",
              "      <th>4</th>\n",
              "      <td>e</td>\n",
              "      <td>x</td>\n",
              "      <td>s</td>\n",
              "      <td>g</td>\n",
              "      <td>f</td>\n",
              "      <td>n</td>\n",
              "      <td>f</td>\n",
              "      <td>w</td>\n",
              "      <td>b</td>\n",
              "      <td>k</td>\n",
              "      <td>...</td>\n",
              "      <td>s</td>\n",
              "      <td>w</td>\n",
              "      <td>w</td>\n",
              "      <td>p</td>\n",
              "      <td>w</td>\n",
              "      <td>o</td>\n",
              "      <td>e</td>\n",
              "      <td>n</td>\n",
              "      <td>a</td>\n",
              "      <td>g</td>\n",
              "    </tr>\n",
              "  </tbody>\n",
              "</table>\n",
              "<p>5 rows × 23 columns</p>\n",
              "</div>\n",
              "      <button class=\"colab-df-convert\" onclick=\"convertToInteractive('df-4b3be1df-e230-483f-8a79-894e70c2de89')\"\n",
              "              title=\"Convert this dataframe to an interactive table.\"\n",
              "              style=\"display:none;\">\n",
              "        \n",
              "  <svg xmlns=\"http://www.w3.org/2000/svg\" height=\"24px\"viewBox=\"0 0 24 24\"\n",
              "       width=\"24px\">\n",
              "    <path d=\"M0 0h24v24H0V0z\" fill=\"none\"/>\n",
              "    <path d=\"M18.56 5.44l.94 2.06.94-2.06 2.06-.94-2.06-.94-.94-2.06-.94 2.06-2.06.94zm-11 1L8.5 8.5l.94-2.06 2.06-.94-2.06-.94L8.5 2.5l-.94 2.06-2.06.94zm10 10l.94 2.06.94-2.06 2.06-.94-2.06-.94-.94-2.06-.94 2.06-2.06.94z\"/><path d=\"M17.41 7.96l-1.37-1.37c-.4-.4-.92-.59-1.43-.59-.52 0-1.04.2-1.43.59L10.3 9.45l-7.72 7.72c-.78.78-.78 2.05 0 2.83L4 21.41c.39.39.9.59 1.41.59.51 0 1.02-.2 1.41-.59l7.78-7.78 2.81-2.81c.8-.78.8-2.07 0-2.86zM5.41 20L4 18.59l7.72-7.72 1.47 1.35L5.41 20z\"/>\n",
              "  </svg>\n",
              "      </button>\n",
              "      \n",
              "  <style>\n",
              "    .colab-df-container {\n",
              "      display:flex;\n",
              "      flex-wrap:wrap;\n",
              "      gap: 12px;\n",
              "    }\n",
              "\n",
              "    .colab-df-convert {\n",
              "      background-color: #E8F0FE;\n",
              "      border: none;\n",
              "      border-radius: 50%;\n",
              "      cursor: pointer;\n",
              "      display: none;\n",
              "      fill: #1967D2;\n",
              "      height: 32px;\n",
              "      padding: 0 0 0 0;\n",
              "      width: 32px;\n",
              "    }\n",
              "\n",
              "    .colab-df-convert:hover {\n",
              "      background-color: #E2EBFA;\n",
              "      box-shadow: 0px 1px 2px rgba(60, 64, 67, 0.3), 0px 1px 3px 1px rgba(60, 64, 67, 0.15);\n",
              "      fill: #174EA6;\n",
              "    }\n",
              "\n",
              "    [theme=dark] .colab-df-convert {\n",
              "      background-color: #3B4455;\n",
              "      fill: #D2E3FC;\n",
              "    }\n",
              "\n",
              "    [theme=dark] .colab-df-convert:hover {\n",
              "      background-color: #434B5C;\n",
              "      box-shadow: 0px 1px 3px 1px rgba(0, 0, 0, 0.15);\n",
              "      filter: drop-shadow(0px 1px 2px rgba(0, 0, 0, 0.3));\n",
              "      fill: #FFFFFF;\n",
              "    }\n",
              "  </style>\n",
              "\n",
              "      <script>\n",
              "        const buttonEl =\n",
              "          document.querySelector('#df-4b3be1df-e230-483f-8a79-894e70c2de89 button.colab-df-convert');\n",
              "        buttonEl.style.display =\n",
              "          google.colab.kernel.accessAllowed ? 'block' : 'none';\n",
              "\n",
              "        async function convertToInteractive(key) {\n",
              "          const element = document.querySelector('#df-4b3be1df-e230-483f-8a79-894e70c2de89');\n",
              "          const dataTable =\n",
              "            await google.colab.kernel.invokeFunction('convertToInteractive',\n",
              "                                                     [key], {});\n",
              "          if (!dataTable) return;\n",
              "\n",
              "          const docLinkHtml = 'Like what you see? Visit the ' +\n",
              "            '<a target=\"_blank\" href=https://colab.research.google.com/notebooks/data_table.ipynb>data table notebook</a>'\n",
              "            + ' to learn more about interactive tables.';\n",
              "          element.innerHTML = '';\n",
              "          dataTable['output_type'] = 'display_data';\n",
              "          await google.colab.output.renderOutput(dataTable, element);\n",
              "          const docLink = document.createElement('div');\n",
              "          docLink.innerHTML = docLinkHtml;\n",
              "          element.appendChild(docLink);\n",
              "        }\n",
              "      </script>\n",
              "    </div>\n",
              "  </div>\n",
              "  "
            ]
          },
          "metadata": {},
          "execution_count": 5
        }
      ],
      "source": [
        "#df = the dataset file for csv\n",
        "#read the csv/import the csv file\n",
        "\n",
        "df = pd.read_csv(\"/content/data.csv\")\n",
        "\n",
        "#Successfully loaded notess\n",
        "print(\"Loaded successfully.\")\n",
        "print()\n",
        "\n",
        "# print first 5 rows of data.csv\n",
        "df.head()"
      ]
    },
    {
      "cell_type": "markdown",
      "metadata": {
        "id": "FLc2M7DywRHx"
      },
      "source": [
        "## Attribute Information:\n",
        "- classes: edible=e, poisonous=p\n",
        "- cap-shape: bell=b,conical=c,convex=x,flat=f, knobbed=k,sunken=s\n",
        "- cap-surface: fibrous=f,grooves=g,scaly=y,smooth=s\n",
        "- cap-color: brown=n,buff=b,cinnamon=c,gray=g,green=r,pink=p,purple=u,red=e,white=w,yellow=y\n",
        "- bruises: bruises=t,no=f\n",
        "- odor: almond=a,anise=l,creosote=c,fishy=y,foul=f,musty=m,none=n,pungent=p,spicy=s\n",
        "- gill-attachment: attached=a,descending=d,free=f,notched=n\n",
        "- gill-spacing: close=c,crowded=w,distant=d\n",
        "- gill-size: broad=b,narrow=n\n",
        "- gill-color: black=k,brown=n,buff=b,chocolate=h,gray=g,green=r,orange=o,pink=p,purple=u,red=e,white=w,yellow=y\n",
        "- stalk-shape: enlarging=e,tapering=t\n",
        "- stalk-root: bulbous=b,club=c,cup=u,equal=e,rhizomorphs=z,rooted=r,missing=?\n",
        "- stalk-surface-above-ring: fibrous=f,scaly=y,silky=k,smooth=s\n",
        "- stalk-surface-below-ring: fibrous=f,scaly=y,silky=k,smooth=s\n",
        "- stalk-color-above-ring: brown=n,buff=b,cinnamon=c,gray=g,orange=o,pink=p,red=e,white=w,yellow=y\n",
        "- stalk-color-below-ring: brown=n,buff=b,cinnamon=c,gray=g,orange=o,pink=p,red=e,white=w,yellow=y\n",
        "- veil-type: partial=p,universal=u\n",
        "- veil-color: brown=n,orange=o,white=w,yellow=y\n",
        "- ring-number: none=n,one=o,two=t\n",
        "- ring-type: cobwebby=c,evanescent=e,flaring=f,large=l,none=n,pendant=p,sheathing=s,zone=z\n",
        "- spore-print-color: black=k,brown=n,buff=b,chocolate=h,green=r,orange=o,purple=u,white=w,yellow=y\n",
        "- population: abundant=a,clustered=c,numerous=n,scattered=s,several=v,solitary=y\n",
        "- habitat: grasses=g,leaves=l,meadows=m,paths=p,urban=u,waste=w,woods=d"
      ]
    },
    {
      "cell_type": "markdown",
      "metadata": {
        "id": "qqEMzQ5LPkQC"
      },
      "source": [
        "## For stalk-root column, replace '?' property with 'm' for clarity"
      ]
    },
    {
      "cell_type": "code",
      "source": [
        "df[\"stalk-root\"].tail()"
      ],
      "metadata": {
        "colab": {
          "base_uri": "https://localhost:8080/"
        },
        "id": "om_52HavD56A",
        "outputId": "a304b441-9319-4b9a-f2f4-fae853029995"
      },
      "execution_count": null,
      "outputs": [
        {
          "output_type": "execute_result",
          "data": {
            "text/plain": [
              "8119    ?\n",
              "8120    ?\n",
              "8121    ?\n",
              "8122    ?\n",
              "8123    ?\n",
              "Name: stalk-root, dtype: object"
            ]
          },
          "metadata": {},
          "execution_count": 6
        }
      ]
    },
    {
      "cell_type": "code",
      "execution_count": null,
      "metadata": {
        "id": "sbvHSK84Pi1p"
      },
      "outputs": [],
      "source": [
        "# Replace all \"?\" values in the \"stalk-root\" column with \"m\"\n",
        "df[\"stalk-root\"] = df[\"stalk-root\"].replace(\"?\", \"m\")\n",
        "\n",
        "# Save the modified dataset to a new CSV file\n",
        "df.to_csv(\"data.csv\", index=False)"
      ]
    },
    {
      "cell_type": "code",
      "source": [
        "df[\"stalk-root\"].tail()"
      ],
      "metadata": {
        "colab": {
          "base_uri": "https://localhost:8080/"
        },
        "id": "Q3hfrNSoEM9i",
        "outputId": "5871b474-2242-4266-aa53-ef3762fe496b"
      },
      "execution_count": null,
      "outputs": [
        {
          "output_type": "execute_result",
          "data": {
            "text/plain": [
              "8119    m\n",
              "8120    m\n",
              "8121    m\n",
              "8122    m\n",
              "8123    m\n",
              "Name: stalk-root, dtype: object"
            ]
          },
          "metadata": {},
          "execution_count": 8
        }
      ]
    },
    {
      "cell_type": "code",
      "execution_count": null,
      "metadata": {
        "colab": {
          "base_uri": "https://localhost:8080/",
          "height": 977
        },
        "id": "Gs764wIFzsa5",
        "outputId": "ed349275-a5ae-4340-96ee-81fd6ea35625"
      },
      "outputs": [
        {
          "output_type": "stream",
          "name": "stdout",
          "text": [
            "Shape of data.csv:\n",
            "(8124, 23)\n",
            "\n",
            "summary of data.csv:\n",
            "<class 'pandas.core.frame.DataFrame'>\n",
            "RangeIndex: 8124 entries, 0 to 8123\n",
            "Data columns (total 23 columns):\n",
            " #   Column                    Non-Null Count  Dtype \n",
            "---  ------                    --------------  ----- \n",
            " 0   class                     8124 non-null   object\n",
            " 1   cap-shape                 8124 non-null   object\n",
            " 2   cap-surface               8124 non-null   object\n",
            " 3   cap-color                 8124 non-null   object\n",
            " 4   bruises                   8124 non-null   object\n",
            " 5   odor                      8124 non-null   object\n",
            " 6   gill-attachment           8124 non-null   object\n",
            " 7   gill-spacing              8124 non-null   object\n",
            " 8   gill-size                 8124 non-null   object\n",
            " 9   gill-color                8124 non-null   object\n",
            " 10  stalk-shape               8124 non-null   object\n",
            " 11  stalk-root                8124 non-null   object\n",
            " 12  stalk-surface-above-ring  8124 non-null   object\n",
            " 13  stalk-surface-below-ring  8124 non-null   object\n",
            " 14  stalk-color-above-ring    8124 non-null   object\n",
            " 15  stalk-color-below-ring    8124 non-null   object\n",
            " 16  veil-type                 8124 non-null   object\n",
            " 17  veil-color                8124 non-null   object\n",
            " 18  ring-number               8124 non-null   object\n",
            " 19  ring-type                 8124 non-null   object\n",
            " 20  spore-print-color         8124 non-null   object\n",
            " 21  population                8124 non-null   object\n",
            " 22  habitat                   8124 non-null   object\n",
            "dtypes: object(23)\n",
            "memory usage: 1.4+ MB\n",
            "\n",
            "Statistical summary of data.csv:\n"
          ]
        },
        {
          "output_type": "execute_result",
          "data": {
            "text/plain": [
              "       class cap-shape cap-surface cap-color bruises  odor gill-attachment  \\\n",
              "count   8124      8124        8124      8124    8124  8124            8124   \n",
              "unique     2         6           4        10       2     9               2   \n",
              "top        e         x           y         n       f     n               f   \n",
              "freq    4208      3656        3244      2284    4748  3528            7914   \n",
              "\n",
              "       gill-spacing gill-size gill-color  ... stalk-surface-below-ring  \\\n",
              "count          8124      8124       8124  ...                     8124   \n",
              "unique            2         2         12  ...                        4   \n",
              "top               c         b          b  ...                        s   \n",
              "freq           6812      5612       1728  ...                     4936   \n",
              "\n",
              "       stalk-color-above-ring stalk-color-below-ring veil-type veil-color  \\\n",
              "count                    8124                   8124      8124       8124   \n",
              "unique                      9                      9         1          4   \n",
              "top                         w                      w         p          w   \n",
              "freq                     4464                   4384      8124       7924   \n",
              "\n",
              "       ring-number ring-type spore-print-color population habitat  \n",
              "count         8124      8124              8124       8124    8124  \n",
              "unique           3         5                 9          6       7  \n",
              "top              o         p                 w          v       d  \n",
              "freq          7488      3968              2388       4040    3148  \n",
              "\n",
              "[4 rows x 23 columns]"
            ],
            "text/html": [
              "\n",
              "  <div id=\"df-2ecb629b-77fc-4023-9f90-c855a11f2239\">\n",
              "    <div class=\"colab-df-container\">\n",
              "      <div>\n",
              "<style scoped>\n",
              "    .dataframe tbody tr th:only-of-type {\n",
              "        vertical-align: middle;\n",
              "    }\n",
              "\n",
              "    .dataframe tbody tr th {\n",
              "        vertical-align: top;\n",
              "    }\n",
              "\n",
              "    .dataframe thead th {\n",
              "        text-align: right;\n",
              "    }\n",
              "</style>\n",
              "<table border=\"1\" class=\"dataframe\">\n",
              "  <thead>\n",
              "    <tr style=\"text-align: right;\">\n",
              "      <th></th>\n",
              "      <th>class</th>\n",
              "      <th>cap-shape</th>\n",
              "      <th>cap-surface</th>\n",
              "      <th>cap-color</th>\n",
              "      <th>bruises</th>\n",
              "      <th>odor</th>\n",
              "      <th>gill-attachment</th>\n",
              "      <th>gill-spacing</th>\n",
              "      <th>gill-size</th>\n",
              "      <th>gill-color</th>\n",
              "      <th>...</th>\n",
              "      <th>stalk-surface-below-ring</th>\n",
              "      <th>stalk-color-above-ring</th>\n",
              "      <th>stalk-color-below-ring</th>\n",
              "      <th>veil-type</th>\n",
              "      <th>veil-color</th>\n",
              "      <th>ring-number</th>\n",
              "      <th>ring-type</th>\n",
              "      <th>spore-print-color</th>\n",
              "      <th>population</th>\n",
              "      <th>habitat</th>\n",
              "    </tr>\n",
              "  </thead>\n",
              "  <tbody>\n",
              "    <tr>\n",
              "      <th>count</th>\n",
              "      <td>8124</td>\n",
              "      <td>8124</td>\n",
              "      <td>8124</td>\n",
              "      <td>8124</td>\n",
              "      <td>8124</td>\n",
              "      <td>8124</td>\n",
              "      <td>8124</td>\n",
              "      <td>8124</td>\n",
              "      <td>8124</td>\n",
              "      <td>8124</td>\n",
              "      <td>...</td>\n",
              "      <td>8124</td>\n",
              "      <td>8124</td>\n",
              "      <td>8124</td>\n",
              "      <td>8124</td>\n",
              "      <td>8124</td>\n",
              "      <td>8124</td>\n",
              "      <td>8124</td>\n",
              "      <td>8124</td>\n",
              "      <td>8124</td>\n",
              "      <td>8124</td>\n",
              "    </tr>\n",
              "    <tr>\n",
              "      <th>unique</th>\n",
              "      <td>2</td>\n",
              "      <td>6</td>\n",
              "      <td>4</td>\n",
              "      <td>10</td>\n",
              "      <td>2</td>\n",
              "      <td>9</td>\n",
              "      <td>2</td>\n",
              "      <td>2</td>\n",
              "      <td>2</td>\n",
              "      <td>12</td>\n",
              "      <td>...</td>\n",
              "      <td>4</td>\n",
              "      <td>9</td>\n",
              "      <td>9</td>\n",
              "      <td>1</td>\n",
              "      <td>4</td>\n",
              "      <td>3</td>\n",
              "      <td>5</td>\n",
              "      <td>9</td>\n",
              "      <td>6</td>\n",
              "      <td>7</td>\n",
              "    </tr>\n",
              "    <tr>\n",
              "      <th>top</th>\n",
              "      <td>e</td>\n",
              "      <td>x</td>\n",
              "      <td>y</td>\n",
              "      <td>n</td>\n",
              "      <td>f</td>\n",
              "      <td>n</td>\n",
              "      <td>f</td>\n",
              "      <td>c</td>\n",
              "      <td>b</td>\n",
              "      <td>b</td>\n",
              "      <td>...</td>\n",
              "      <td>s</td>\n",
              "      <td>w</td>\n",
              "      <td>w</td>\n",
              "      <td>p</td>\n",
              "      <td>w</td>\n",
              "      <td>o</td>\n",
              "      <td>p</td>\n",
              "      <td>w</td>\n",
              "      <td>v</td>\n",
              "      <td>d</td>\n",
              "    </tr>\n",
              "    <tr>\n",
              "      <th>freq</th>\n",
              "      <td>4208</td>\n",
              "      <td>3656</td>\n",
              "      <td>3244</td>\n",
              "      <td>2284</td>\n",
              "      <td>4748</td>\n",
              "      <td>3528</td>\n",
              "      <td>7914</td>\n",
              "      <td>6812</td>\n",
              "      <td>5612</td>\n",
              "      <td>1728</td>\n",
              "      <td>...</td>\n",
              "      <td>4936</td>\n",
              "      <td>4464</td>\n",
              "      <td>4384</td>\n",
              "      <td>8124</td>\n",
              "      <td>7924</td>\n",
              "      <td>7488</td>\n",
              "      <td>3968</td>\n",
              "      <td>2388</td>\n",
              "      <td>4040</td>\n",
              "      <td>3148</td>\n",
              "    </tr>\n",
              "  </tbody>\n",
              "</table>\n",
              "<p>4 rows × 23 columns</p>\n",
              "</div>\n",
              "      <button class=\"colab-df-convert\" onclick=\"convertToInteractive('df-2ecb629b-77fc-4023-9f90-c855a11f2239')\"\n",
              "              title=\"Convert this dataframe to an interactive table.\"\n",
              "              style=\"display:none;\">\n",
              "        \n",
              "  <svg xmlns=\"http://www.w3.org/2000/svg\" height=\"24px\"viewBox=\"0 0 24 24\"\n",
              "       width=\"24px\">\n",
              "    <path d=\"M0 0h24v24H0V0z\" fill=\"none\"/>\n",
              "    <path d=\"M18.56 5.44l.94 2.06.94-2.06 2.06-.94-2.06-.94-.94-2.06-.94 2.06-2.06.94zm-11 1L8.5 8.5l.94-2.06 2.06-.94-2.06-.94L8.5 2.5l-.94 2.06-2.06.94zm10 10l.94 2.06.94-2.06 2.06-.94-2.06-.94-.94-2.06-.94 2.06-2.06.94z\"/><path d=\"M17.41 7.96l-1.37-1.37c-.4-.4-.92-.59-1.43-.59-.52 0-1.04.2-1.43.59L10.3 9.45l-7.72 7.72c-.78.78-.78 2.05 0 2.83L4 21.41c.39.39.9.59 1.41.59.51 0 1.02-.2 1.41-.59l7.78-7.78 2.81-2.81c.8-.78.8-2.07 0-2.86zM5.41 20L4 18.59l7.72-7.72 1.47 1.35L5.41 20z\"/>\n",
              "  </svg>\n",
              "      </button>\n",
              "      \n",
              "  <style>\n",
              "    .colab-df-container {\n",
              "      display:flex;\n",
              "      flex-wrap:wrap;\n",
              "      gap: 12px;\n",
              "    }\n",
              "\n",
              "    .colab-df-convert {\n",
              "      background-color: #E8F0FE;\n",
              "      border: none;\n",
              "      border-radius: 50%;\n",
              "      cursor: pointer;\n",
              "      display: none;\n",
              "      fill: #1967D2;\n",
              "      height: 32px;\n",
              "      padding: 0 0 0 0;\n",
              "      width: 32px;\n",
              "    }\n",
              "\n",
              "    .colab-df-convert:hover {\n",
              "      background-color: #E2EBFA;\n",
              "      box-shadow: 0px 1px 2px rgba(60, 64, 67, 0.3), 0px 1px 3px 1px rgba(60, 64, 67, 0.15);\n",
              "      fill: #174EA6;\n",
              "    }\n",
              "\n",
              "    [theme=dark] .colab-df-convert {\n",
              "      background-color: #3B4455;\n",
              "      fill: #D2E3FC;\n",
              "    }\n",
              "\n",
              "    [theme=dark] .colab-df-convert:hover {\n",
              "      background-color: #434B5C;\n",
              "      box-shadow: 0px 1px 3px 1px rgba(0, 0, 0, 0.15);\n",
              "      filter: drop-shadow(0px 1px 2px rgba(0, 0, 0, 0.3));\n",
              "      fill: #FFFFFF;\n",
              "    }\n",
              "  </style>\n",
              "\n",
              "      <script>\n",
              "        const buttonEl =\n",
              "          document.querySelector('#df-2ecb629b-77fc-4023-9f90-c855a11f2239 button.colab-df-convert');\n",
              "        buttonEl.style.display =\n",
              "          google.colab.kernel.accessAllowed ? 'block' : 'none';\n",
              "\n",
              "        async function convertToInteractive(key) {\n",
              "          const element = document.querySelector('#df-2ecb629b-77fc-4023-9f90-c855a11f2239');\n",
              "          const dataTable =\n",
              "            await google.colab.kernel.invokeFunction('convertToInteractive',\n",
              "                                                     [key], {});\n",
              "          if (!dataTable) return;\n",
              "\n",
              "          const docLinkHtml = 'Like what you see? Visit the ' +\n",
              "            '<a target=\"_blank\" href=https://colab.research.google.com/notebooks/data_table.ipynb>data table notebook</a>'\n",
              "            + ' to learn more about interactive tables.';\n",
              "          element.innerHTML = '';\n",
              "          dataTable['output_type'] = 'display_data';\n",
              "          await google.colab.output.renderOutput(dataTable, element);\n",
              "          const docLink = document.createElement('div');\n",
              "          docLink.innerHTML = docLinkHtml;\n",
              "          element.appendChild(docLink);\n",
              "        }\n",
              "      </script>\n",
              "    </div>\n",
              "  </div>\n",
              "  "
            ]
          },
          "metadata": {},
          "execution_count": 9
        }
      ],
      "source": [
        "## data.csv\n",
        "\n",
        "#Get the shape\n",
        "print(\"Shape of data.csv:\")\n",
        "print(df.shape)\n",
        "print()\n",
        "\n",
        "#Get the infomation\n",
        "print(\"summary of data.csv:\")\n",
        "df.info()\n",
        "print()\n",
        "\n",
        "#Get statistical summary\n",
        "print(\"Statistical summary of data.csv:\")\n",
        "df.describe()"
      ]
    },
    {
      "cell_type": "markdown",
      "metadata": {
        "id": "WhAVqmxNPWky"
      },
      "source": [
        "## Check for any duplicated or missing values"
      ]
    },
    {
      "cell_type": "code",
      "execution_count": null,
      "metadata": {
        "colab": {
          "base_uri": "https://localhost:8080/"
        },
        "id": "0jWVei074qmT",
        "outputId": "5c29ead8-035c-4e12-8047-30547ada83b2"
      },
      "outputs": [
        {
          "output_type": "stream",
          "name": "stdout",
          "text": [
            "List of columns with object datatype:  ['class', 'cap-shape', 'cap-surface', 'cap-color', 'bruises', 'odor', 'gill-attachment', 'gill-spacing', 'gill-size', 'gill-color', 'stalk-shape', 'stalk-root', 'stalk-surface-above-ring', 'stalk-surface-below-ring', 'stalk-color-above-ring', 'stalk-color-below-ring', 'veil-type', 'veil-color', 'ring-number', 'ring-type', 'spore-print-color', 'population', 'habitat']\n",
            "\n",
            "List of columns without object datatype:  []\n",
            "\n",
            "For duplicated data.csv: Empty DataFrame\n",
            "Columns: [class, cap-shape, cap-surface, cap-color, bruises, odor, gill-attachment, gill-spacing, gill-size, gill-color, stalk-shape, stalk-root, stalk-surface-above-ring, stalk-surface-below-ring, stalk-color-above-ring, stalk-color-below-ring, veil-type, veil-color, ring-number, ring-type, spore-print-color, population, habitat]\n",
            "Index: []\n",
            "\n",
            "[0 rows x 23 columns]\n",
            "Variables with missing values count: \n"
          ]
        },
        {
          "output_type": "execute_result",
          "data": {
            "text/plain": [
              "class                       0\n",
              "cap-shape                   0\n",
              "cap-surface                 0\n",
              "cap-color                   0\n",
              "bruises                     0\n",
              "odor                        0\n",
              "gill-attachment             0\n",
              "gill-spacing                0\n",
              "gill-size                   0\n",
              "gill-color                  0\n",
              "stalk-shape                 0\n",
              "stalk-root                  0\n",
              "stalk-surface-above-ring    0\n",
              "stalk-surface-below-ring    0\n",
              "stalk-color-above-ring      0\n",
              "stalk-color-below-ring      0\n",
              "veil-type                   0\n",
              "veil-color                  0\n",
              "ring-number                 0\n",
              "ring-type                   0\n",
              "spore-print-color           0\n",
              "population                  0\n",
              "habitat                     0\n",
              "dtype: int64"
            ]
          },
          "metadata": {},
          "execution_count": 10
        }
      ],
      "source": [
        "# Sort out columns by datatype:object (To see the columns better)\n",
        "isobject = list(df.columns[df.dtypes == \"object\"])\n",
        "notobject = list(df.columns[df.dtypes != \"object\"])\n",
        "print(\"List of columns with object datatype: \", isobject)\n",
        "print()\n",
        "print(\"List of columns without object datatype: \", notobject)\n",
        "print()\n",
        "\n",
        "# Check for duplicated values\n",
        "repeatdf = df[df.duplicated()]\n",
        "print('For duplicated data.csv:', repeatdf)\n",
        "#'Empty DataFrame': No duplicated data\n",
        "\n",
        "# List out all variables with nulls/missing values\n",
        "print(\"Variables with missing values count: \")\n",
        "df.isnull().sum()"
      ]
    },
    {
      "cell_type": "markdown",
      "metadata": {
        "id": "OBRNiQTFJ2FN"
      },
      "source": [
        "## Converting categorical columns in a DataFrame to numerical columns using one-hot encoding"
      ]
    },
    {
      "cell_type": "code",
      "execution_count": null,
      "metadata": {
        "colab": {
          "base_uri": "https://localhost:8080/"
        },
        "id": "-zT7NpNaJ7a4",
        "outputId": "a6dc77c5-e0de-49c9-fb50-b3f89f654cbe"
      },
      "outputs": [
        {
          "output_type": "stream",
          "name": "stdout",
          "text": [
            "  class  cap-shape_b  cap-shape_c  cap-shape_f  cap-shape_k  cap-shape_s  \\\n",
            "0     p            0            0            0            0            0   \n",
            "1     e            0            0            0            0            0   \n",
            "2     e            1            0            0            0            0   \n",
            "3     p            0            0            0            0            0   \n",
            "4     e            0            0            0            0            0   \n",
            "\n",
            "   cap-shape_x  cap-surface_f  cap-surface_g  cap-surface_s  ...  \\\n",
            "0            1              0              0              1  ...   \n",
            "1            1              0              0              1  ...   \n",
            "2            0              0              0              1  ...   \n",
            "3            1              0              0              0  ...   \n",
            "4            1              0              0              1  ...   \n",
            "\n",
            "   population_s  population_v  population_y  habitat_d  habitat_g  habitat_l  \\\n",
            "0             1             0             0          0          0          0   \n",
            "1             0             0             0          0          1          0   \n",
            "2             0             0             0          0          0          0   \n",
            "3             1             0             0          0          0          0   \n",
            "4             0             0             0          0          1          0   \n",
            "\n",
            "   habitat_m  habitat_p  habitat_u  habitat_w  \n",
            "0          0          0          1          0  \n",
            "1          0          0          0          0  \n",
            "2          1          0          0          0  \n",
            "3          0          0          1          0  \n",
            "4          0          0          0          0  \n",
            "\n",
            "[5 rows x 118 columns]\n"
          ]
        }
      ],
      "source": [
        "# get one-hot encoded columns for categorical features\n",
        "cat_columns = ['cap-shape', 'cap-surface', 'cap-color', 'bruises', 'odor',\n",
        "               'gill-attachment', 'gill-spacing', 'gill-size', 'gill-color',\n",
        "               'stalk-shape', 'stalk-root', 'stalk-surface-above-ring',\n",
        "               'stalk-surface-below-ring', 'stalk-color-above-ring',\n",
        "               'stalk-color-below-ring', 'veil-type', 'veil-color',\n",
        "               'ring-number', 'ring-type', 'spore-print-color',\n",
        "               'population', 'habitat']\n",
        "df_encoded = pd.get_dummies(df, columns=cat_columns)\n",
        "\n",
        "# print the resulting DataFrame\n",
        "print(df_encoded.head())"
      ]
    },
    {
      "cell_type": "markdown",
      "metadata": {
        "id": "9nqxhx2X9TFo"
      },
      "source": [
        "## Split the dataset"
      ]
    },
    {
      "cell_type": "code",
      "execution_count": null,
      "metadata": {
        "colab": {
          "base_uri": "https://localhost:8080/"
        },
        "id": "Sz8C2pYc9SjM",
        "outputId": "acd77ed9-28d2-402f-a417-6b72b5d3aad5"
      },
      "outputs": [
        {
          "output_type": "stream",
          "name": "stdout",
          "text": [
            "Train Set : (5686, 117) (5686, 1)\n",
            "Test Set  : (2438, 117) (2438, 1)\n"
          ]
        }
      ],
      "source": [
        "from sklearn.model_selection import train_test_split\n",
        "y = df_encoded[\"class\"].values\n",
        "X = df_encoded.drop([\"class\"],axis=1).values\n",
        "y = pd.DataFrame(y)\n",
        "X = pd.DataFrame(X)\n",
        "\n",
        "X_train, X_test, y_train, y_test = train_test_split(X, y, test_size=0.30)\n",
        "print(\"Train Set :\", X_train.shape, y_train.shape)\n",
        "print(\"Test Set  :\", X_test.shape, y_test.shape)"
      ]
    },
    {
      "cell_type": "markdown",
      "metadata": {
        "id": "SDIzKTVSEuZJ"
      },
      "source": [
        "## Recursive Feature Elimination (RFE) using Logistic Regression to find common features of poisonous mushroom"
      ]
    },
    {
      "cell_type": "code",
      "execution_count": null,
      "metadata": {
        "id": "A-WznbnapVD5"
      },
      "outputs": [],
      "source": [
        "import pandas as pd\n",
        "from sklearn.feature_selection import RFE\n",
        "from sklearn.linear_model import LogisticRegression\n",
        "from collections import defaultdict\n",
        "\n",
        "y = df_encoded['class'].map({'p': 1, 'e': 0})\n",
        "\n",
        "# Create RFE objects with different estimators\n",
        "lr = LogisticRegression(max_iter=1000)\n",
        "\n",
        "rfe_lr = RFE(estimator=lr, n_features_to_select=20, step=1)\n",
        "\n",
        "common_features_freq = defaultdict(int)\n",
        "\n",
        "# Repeated RFE 35 times for CLT.\n",
        "for i in range(35):\n",
        "    # Fit RFE objects on the data\n",
        "    rfe_lr.fit(X, y)\n",
        "\n",
        "    # Get the support mask for each RFE object\n",
        "    support_lr = X.columns[rfe_lr.support_]\n",
        "\n",
        "    # Find the common features for poisonous mushrooms\n",
        "    poisonous_mask = (y == 1)\n",
        "    common_features = support_lr[poisonous_mask[support_lr]].unique()\n",
        "\n",
        "    # Update the frequency count for each common feature\n",
        "    for feature in common_features:\n",
        "        common_features_freq[feature] += 1\n",
        "\n",
        "# Get the top common features\n",
        "top_common_features = sorted(common_features_freq.items(), key=lambda x: x[1], reverse=True)[:5]\n"
      ]
    },
    {
      "cell_type": "code",
      "execution_count": null,
      "metadata": {
        "colab": {
          "base_uri": "https://localhost:8080/"
        },
        "id": "NkOfAKkTx8jk",
        "outputId": "bcbefbc4-030e-4a48-8e7c-5e1af6952da1"
      },
      "outputs": [
        {
          "name": "stdout",
          "output_type": "stream",
          "text": [
            "Common features selected by RFE with LR model: \n",
            "odor_f\n",
            "gill-size_n\n",
            "stalk-color-below-ring_w\n"
          ]
        }
      ],
      "source": [
        "print(\"Common features selected by RFE with LR model: \")\n",
        "for i in  top_common_features:\n",
        "  print(df_encoded.columns[i[0]])"
      ]
    },
    {
      "cell_type": "markdown",
      "metadata": {
        "id": "vg1Ht4rn7imE"
      },
      "source": [
        "## Recursive Feature Elimination (RFE) using Random Forest to find common features of poisonous mushroom"
      ]
    },
    {
      "cell_type": "code",
      "execution_count": null,
      "metadata": {
        "id": "z6fN8qX-icVC"
      },
      "outputs": [],
      "source": [
        "import pandas as pd\n",
        "from sklearn.feature_selection import RFE\n",
        "from sklearn.ensemble import RandomForestClassifier\n",
        "from collections import defaultdict\n",
        "\n",
        "y = df_encoded['class'].map({'p': 1, 'e': 0})\n",
        "\n",
        "# Create RFE objects with different estimators\n",
        "rfc = RandomForestClassifier(n_estimators=100, random_state=0)\n",
        "\n",
        "rfe_rfc = RFE(estimator=rfc, n_features_to_select=20, step=1)\n",
        "\n",
        "common_features_freq = defaultdict(int)\n",
        "\n",
        "# Repeated RFE 35 times for CLT.\n",
        "for i in range(35):\n",
        "    # Fit RFE objects on the data\n",
        "    rfe_rfc.fit(X, y)\n",
        "\n",
        "    # Get the support mask for each RFE object\n",
        "    support_rfc = X.columns[rfe_rfc.support_]\n",
        "\n",
        "    # Find the common features for poisonous mushrooms\n",
        "    poisonous_mask = (y == 1)\n",
        "    common_features = support_rfc[poisonous_mask[support_rfc]].unique()\n",
        "\n",
        "    # Update the frequency count for each common feature\n",
        "    for feature in common_features:\n",
        "        common_features_freq[feature] += 1\n",
        "\n",
        "# Get the top common features\n",
        "top_common_features = sorted(common_features_freq.items(), key=lambda x: x[1], reverse=True)[:5]\n"
      ]
    },
    {
      "cell_type": "code",
      "source": [
        "print(\"Common features selected by RFE with Random Forest model: \")\n",
        "for i in  top_common_features:\n",
        "  print(df_encoded.columns[i[0]])"
      ],
      "metadata": {
        "colab": {
          "base_uri": "https://localhost:8080/"
        },
        "id": "24HHOqnZvjKZ",
        "outputId": "2cb424ce-9369-4090-9111-a146539d6b3c"
      },
      "execution_count": null,
      "outputs": [
        {
          "output_type": "stream",
          "name": "stdout",
          "text": [
            "Common features selected by RFE with Random Forest model: \n",
            "bruises_f\n",
            "gill-size_n\n",
            "stalk-root_c\n"
          ]
        }
      ]
    },
    {
      "cell_type": "markdown",
      "metadata": {
        "id": "mS_VtoYJo56P"
      },
      "source": [
        "## Recursive Feature Elimination (RFE) using Support Vectors Machine to find common features of poisonous mushroom"
      ]
    },
    {
      "cell_type": "code",
      "source": [
        "import pandas as pd\n",
        "from sklearn.feature_selection import RFE\n",
        "from sklearn.svm import SVC, LinearSVC\n",
        "from collections import defaultdict\n",
        "\n",
        "y = df_encoded['class'].map({'p': 1, 'e': 0})\n",
        "\n",
        "# Create RFE objects with different estimators\n",
        "svm = SVC(kernel='linear', probability=True)\n",
        "\n",
        "rfe_svm = RFE(estimator=svm, n_features_to_select=20, step=1)\n",
        "\n",
        "common_features_freq = defaultdict(int)\n",
        "\n",
        "# Repeated RFE 35 times for CLT.\n",
        "for i in range(35):\n",
        "    # Fit RFE objects on the data\n",
        "    rfe_svm.fit(X, y)\n",
        "\n",
        "    # Get the support mask for each RFE object\n",
        "    support_svm = X.columns[rfe_svm.support_]\n",
        "\n",
        "    # Find the common features for poisonous mushrooms\n",
        "    poisonous_mask = (y == 1)\n",
        "    common_features = support_svm[poisonous_mask[support_svm]].unique()\n",
        "\n",
        "    # Update the frequency count for each common feature\n",
        "    for feature in common_features:\n",
        "        common_features_freq[feature] += 1\n",
        "\n",
        "# Get the top common features\n",
        "top_common_features = sorted(common_features_freq.items(), key=lambda x: x[1], reverse=True)[:5]"
      ],
      "metadata": {
        "id": "qDQz3hrno_sA"
      },
      "execution_count": null,
      "outputs": []
    },
    {
      "cell_type": "code",
      "source": [
        "print(\"Common features selected by RFE with SVM model: \")\n",
        "for i in  top_common_features:\n",
        "  print(df_encoded.columns[i[0]])"
      ],
      "metadata": {
        "id": "O8O4BxG-p7Di",
        "colab": {
          "base_uri": "https://localhost:8080/"
        },
        "outputId": "b9d40b79-8a2a-4415-8ef6-028004ffbff6"
      },
      "execution_count": null,
      "outputs": [
        {
          "output_type": "stream",
          "name": "stdout",
          "text": [
            "Common features selected by RFE with SVM model: \n",
            "odor_f\n"
          ]
        }
      ]
    },
    {
      "cell_type": "markdown",
      "source": [
        "In summary,\n",
        "\n",
        "Common features selected by RFE with LR model:\n",
        "odor_f\n",
        "gill-size_n\n",
        "stalk-color-below-ring_w\n",
        "\n",
        "Common features selected by RFE with Random Forest model:\n",
        "bruises_f\n",
        "gill-size_n\n",
        "stalk-root_c\n",
        "\n",
        "Common features selected by RFE with SVM model:\n",
        "odor_f\n",
        "\n",
        "The common feature selected by both RFE with LR, Random Forest, and SVM models is gill-size_n and odor_f (the closest common feature despite it was not found in SVM).\n",
        "\n",
        "It's possible that the LR model and Random Forest model identified different features as important because they have different ways of evaluating feature importance.\n",
        "The LR, Random Forest, and SVM models have different ways of selecting the best features. LR uses coefficients to identify the features that have the most impact on the target variable, while Random Forest builds multiple decision trees and selects the features that have the highest importance scores across all trees. SVM determines by comparing the size of svm coefficients to each other."
      ],
      "metadata": {
        "id": "wayENappP7sr"
      }
    },
    {
      "cell_type": "markdown",
      "metadata": {
        "id": "AqXQ92Be9KEp"
      },
      "source": [
        "# Exploratory Data Analysis"
      ]
    },
    {
      "cell_type": "markdown",
      "source": [
        "## Crosstabulation table showing the frequency of the \"edible\" and \"poisonous\" class across different features of mushroom"
      ],
      "metadata": {
        "id": "H-Echx-rCHn7"
      }
    },
    {
      "cell_type": "code",
      "source": [
        "def get_highest_freq(df, col):\n",
        "    ct = pd.crosstab(df['class'], df[col])\n",
        "    max_e = ct.iloc[0].max()\n",
        "    max_p = ct.iloc[1].max()\n",
        "    freq_e = ct.idxmax(axis=1)['e']\n",
        "    freq_p = ct.idxmax(axis=1)['p']\n",
        "    print(ct)\n",
        "    print(\"Highest frequency\", col, \"category for class e:\", freq_e)\n",
        "    print(\"Highest frequency\", col, \"category for class p:\", freq_p)\n",
        "    print()\n",
        "    print()"
      ],
      "metadata": {
        "id": "3N316yz-Dzj8"
      },
      "execution_count": null,
      "outputs": []
    },
    {
      "cell_type": "code",
      "source": [
        "for col in df.select_dtypes(include=['object']):\n",
        "  get_highest_freq(df, col)"
      ],
      "metadata": {
        "colab": {
          "base_uri": "https://localhost:8080/"
        },
        "id": "DOgiWGy6J9uH",
        "outputId": "52eac0a1-97ee-443b-e2b3-b79e6378eb38"
      },
      "execution_count": null,
      "outputs": [
        {
          "output_type": "stream",
          "name": "stdout",
          "text": [
            "class     e     p\n",
            "class            \n",
            "e      4208     0\n",
            "p         0  3916\n",
            "Highest frequency class category for class e: e\n",
            "Highest frequency class category for class p: p\n",
            "\n",
            "\n",
            "cap-shape    b  c     f    k   s     x\n",
            "class                                 \n",
            "e          404  0  1596  228  32  1948\n",
            "p           48  4  1556  600   0  1708\n",
            "Highest frequency cap-shape category for class e: x\n",
            "Highest frequency cap-shape category for class p: x\n",
            "\n",
            "\n",
            "cap-surface     f  g     s     y\n",
            "class                           \n",
            "e            1560  0  1144  1504\n",
            "p             760  4  1412  1740\n",
            "Highest frequency cap-surface category for class e: f\n",
            "Highest frequency cap-surface category for class p: y\n",
            "\n",
            "\n",
            "cap-color    b   c    e     g     n   p   r   u    w    y\n",
            "class                                                    \n",
            "e           48  32  624  1032  1264  56  16  16  720  400\n",
            "p          120  12  876   808  1020  88   0   0  320  672\n",
            "Highest frequency cap-color category for class e: n\n",
            "Highest frequency cap-color category for class p: n\n",
            "\n",
            "\n",
            "bruises     f     t\n",
            "class              \n",
            "e        1456  2752\n",
            "p        3292   624\n",
            "Highest frequency bruises category for class e: t\n",
            "Highest frequency bruises category for class p: f\n",
            "\n",
            "\n",
            "odor     a    c     f    l   m     n    p    s    y\n",
            "class                                              \n",
            "e      400    0     0  400   0  3408    0    0    0\n",
            "p        0  192  2160    0  36   120  256  576  576\n",
            "Highest frequency odor category for class e: n\n",
            "Highest frequency odor category for class p: f\n",
            "\n",
            "\n",
            "gill-attachment    a     f\n",
            "class                     \n",
            "e                192  4016\n",
            "p                 18  3898\n",
            "Highest frequency gill-attachment category for class e: f\n",
            "Highest frequency gill-attachment category for class p: f\n",
            "\n",
            "\n",
            "gill-spacing     c     w\n",
            "class                   \n",
            "e             3008  1200\n",
            "p             3804   112\n",
            "Highest frequency gill-spacing category for class e: c\n",
            "Highest frequency gill-spacing category for class p: c\n",
            "\n",
            "\n",
            "gill-size     b     n\n",
            "class                \n",
            "e          3920   288\n",
            "p          1692  2224\n",
            "Highest frequency gill-size category for class e: b\n",
            "Highest frequency gill-size category for class p: n\n",
            "\n",
            "\n",
            "gill-color     b   e    g    h    k    n   o    p   r    u    w   y\n",
            "class                                                              \n",
            "e              0  96  248  204  344  936  64  852   0  444  956  64\n",
            "p           1728   0  504  528   64  112   0  640  24   48  246  22\n",
            "Highest frequency gill-color category for class e: w\n",
            "Highest frequency gill-color category for class p: b\n",
            "\n",
            "\n",
            "stalk-shape     e     t\n",
            "class                  \n",
            "e            1616  2592\n",
            "p            1900  2016\n",
            "Highest frequency stalk-shape category for class e: t\n",
            "Highest frequency stalk-shape category for class p: t\n",
            "\n",
            "\n",
            "stalk-root     b    c    e     m    r\n",
            "class                                \n",
            "e           1920  512  864   720  192\n",
            "p           1856   44  256  1760    0\n",
            "Highest frequency stalk-root category for class e: b\n",
            "Highest frequency stalk-root category for class p: b\n",
            "\n",
            "\n",
            "stalk-surface-above-ring    f     k     s   y\n",
            "class                                        \n",
            "e                         408   144  3640  16\n",
            "p                         144  2228  1536   8\n",
            "Highest frequency stalk-surface-above-ring category for class e: s\n",
            "Highest frequency stalk-surface-above-ring category for class p: k\n",
            "\n",
            "\n",
            "stalk-surface-below-ring    f     k     s    y\n",
            "class                                         \n",
            "e                         456   144  3400  208\n",
            "p                         144  2160  1536   76\n",
            "Highest frequency stalk-surface-below-ring category for class e: s\n",
            "Highest frequency stalk-surface-below-ring category for class p: k\n",
            "\n",
            "\n",
            "stalk-color-above-ring    b   c   e    g    n    o     p     w  y\n",
            "class                                                            \n",
            "e                         0   0  96  576   16  192   576  2752  0\n",
            "p                       432  36   0    0  432    0  1296  1712  8\n",
            "Highest frequency stalk-color-above-ring category for class e: w\n",
            "Highest frequency stalk-color-above-ring category for class p: w\n",
            "\n",
            "\n",
            "stalk-color-below-ring    b   c   e    g    n    o     p     w   y\n",
            "class                                                             \n",
            "e                         0   0  96  576   64  192   576  2704   0\n",
            "p                       432  36   0    0  448    0  1296  1680  24\n",
            "Highest frequency stalk-color-below-ring category for class e: w\n",
            "Highest frequency stalk-color-below-ring category for class p: w\n",
            "\n",
            "\n",
            "veil-type     p\n",
            "class          \n",
            "e          4208\n",
            "p          3916\n",
            "Highest frequency veil-type category for class e: p\n",
            "Highest frequency veil-type category for class p: p\n",
            "\n",
            "\n",
            "veil-color   n   o     w  y\n",
            "class                      \n",
            "e           96  96  4016  0\n",
            "p            0   0  3908  8\n",
            "Highest frequency veil-color category for class e: w\n",
            "Highest frequency veil-color category for class p: w\n",
            "\n",
            "\n",
            "ring-number   n     o    t\n",
            "class                     \n",
            "e             0  3680  528\n",
            "p            36  3808   72\n",
            "Highest frequency ring-number category for class e: o\n",
            "Highest frequency ring-number category for class p: o\n",
            "\n",
            "\n",
            "ring-type     e   f     l   n     p\n",
            "class                              \n",
            "e          1008  48     0   0  3152\n",
            "p          1768   0  1296  36   816\n",
            "Highest frequency ring-type category for class e: p\n",
            "Highest frequency ring-type category for class p: e\n",
            "\n",
            "\n",
            "spore-print-color   b     h     k     n   o   r   u     w   y\n",
            "class                                                        \n",
            "e                  48    48  1648  1744  48   0  48   576  48\n",
            "p                   0  1584   224   224   0  72   0  1812   0\n",
            "Highest frequency spore-print-color category for class e: n\n",
            "Highest frequency spore-print-color category for class p: w\n",
            "\n",
            "\n",
            "population    a    c    n    s     v     y\n",
            "class                                     \n",
            "e           384  288  400  880  1192  1064\n",
            "p             0   52    0  368  2848   648\n",
            "Highest frequency population category for class e: v\n",
            "Highest frequency population category for class p: v\n",
            "\n",
            "\n",
            "habitat     d     g    l    m     p    u    w\n",
            "class                                        \n",
            "e        1880  1408  240  256   136   96  192\n",
            "p        1268   740  592   36  1008  272    0\n",
            "Highest frequency habitat category for class e: d\n",
            "Highest frequency habitat category for class p: d\n",
            "\n",
            "\n"
          ]
        }
      ]
    },
    {
      "cell_type": "markdown",
      "source": [
        "# From the crosstabulation table we found the features with the highest frequecy for \"edible\" and \"poisonous\" class.\n",
        "\n",
        "If a feature has the highest frequency for both e and p, it means that the feature is not a good predictor of the class. In this case, removing the feature may not have a significant impact on the prediction accuracy.\n",
        "\n",
        "Therefore, it is better to consider features:\n",
        "\n",
        "[cap-surface, bruises, odor, gill-size, gill-color, stalk-surface-above-ring, stalk-surface-below-ring, ring-type, spore-print-color]\n",
        "\n",
        "during classification and ignore all other features.\n",
        "\n"
      ],
      "metadata": {
        "id": "hTECz9fIKRTk"
      }
    },
    {
      "cell_type": "markdown",
      "source": [
        "## Bar plot & heatmap combined to compare the distribution of poisonous mushroom for each features, and find top features."
      ],
      "metadata": {
        "id": "lK8GvonduRdN"
      }
    },
    {
      "cell_type": "code",
      "source": [
        "# Encode categorical variables as numerical\n",
        "mushroom_encoded = pd.get_dummies(df)\n",
        "\n",
        "# Compute correlation matrix\n",
        "corr_matrix_p = mushroom_encoded.corr()['class_p']\n",
        "\n",
        "# Sort the correlation values in descending order\n",
        "sorted_corr_p = corr_matrix_p.abs().sort_values(ascending=False)\n",
        "\n",
        "# Plot the top 5 correlations in a bar plot\n",
        "sns.barplot(x=sorted_corr_p.index[2:7], y=sorted_corr_p[2:7])\n",
        "plt.xticks(rotation=90)\n",
        "plt.show()\n",
        "\n",
        "# analysis\n",
        "print()\n",
        "print(\"The top 5 features that poisonous mushroom have (according to bar plot + heatmap): \")\n",
        "print(\"No odor, foul odor, silky stalk above ring, silky stalk below ring, pendant ring\")\n"
      ],
      "metadata": {
        "id": "nTLQvg189Znx",
        "colab": {
          "base_uri": "https://localhost:8080/",
          "height": 652
        },
        "outputId": "da1df570-4c4b-45dd-9022-08b08fbbc3a5"
      },
      "execution_count": null,
      "outputs": [
        {
          "output_type": "display_data",
          "data": {
            "text/plain": [
              "<Figure size 640x480 with 1 Axes>"
            ],
            "image/png": "[encoded data removed]"
          },
          "metadata": {}
        },
        {
          "output_type": "stream",
          "name": "stdout",
          "text": [
            "\n",
            "The top 5 features that poisonous mushroom have (according to bar plot + heatmap): \n",
            "No odor, foul odor, silky stalk above ring, silky stalk below ring, pendant ring\n"
          ]
        }
      ]
    },
    {
      "cell_type": "markdown",
      "source": [
        "These features align with the useful features we found with the crosstabulation table."
      ],
      "metadata": {
        "id": "AJmLuXxzPM_v"
      }
    },
    {
      "cell_type": "markdown",
      "source": [
        "# Examine and compare RFE with EDA to sort out important features for training data set."
      ],
      "metadata": {
        "id": "-8jrzF74SCeQ"
      }
    },
    {
      "cell_type": "markdown",
      "source": [
        "From the crosstabulation table, we narrowed down the useful features of determining poisonous mushroom. These include:\n",
        "1. cap-surface\n",
        "2. bruises\n",
        "3. odor\n",
        "4. gill-size\n",
        "5. gill-color\n",
        "6. stalk-surface-above-ring\n",
        "7. stalk-surface-below-ring\n",
        "8. ring-type\n",
        "9. spore-print-color.\n",
        "\n",
        "From barplot in combination of heatmap, we analysed 5 features that are mostly related to posinous mushroom. These include:\n",
        "1. odor_n\n",
        "2. odor_f\n",
        "3. stalk-surface-above-ring_k\n",
        "4. stalk-surface-below-ring_k\n",
        "5. ring-type_p\n",
        "\n",
        "All these features are proven useful in determining poisonous class by crosstabulation table.\n",
        "\n",
        "The best features determined by RFE methods are the following:\n",
        "1. odor_f\n",
        "2. gill-size_n\n",
        "3. stalk-color-below-ring_w\n",
        "4. bruises_f\n",
        "5. stalk-root_c\n",
        "\n",
        "The features for stalk-root and stalk-color-below-ring are found not to be effective predictors of the class (poisonous, edible). Therefore, we are going to ignore these 2 features when selecting for training data.\n",
        "\n",
        "In conclusion, the most important features for training the model include the following:\n",
        "1. odor_f\n",
        "2. gill-size_n\n",
        "3. odor_n\n",
        "4. stalk-surface-above-ring_k\n",
        "5. stalk-surface-below-ring_k\n",
        "6. ring-type_p\n",
        "7. bruises_f\n",
        "\n",
        "\n",
        "\n"
      ],
      "metadata": {
        "id": "WGeLCoMhSR8l"
      }
    },
    {
      "cell_type": "markdown",
      "source": [
        "## Split the dataset again (this time to feed the model with important features)"
      ],
      "metadata": {
        "id": "v51wOhHN9GIu"
      }
    },
    {
      "cell_type": "code",
      "source": [
        "selected = df_encoded[['odor_f', 'gill-size_n', 'odor_n', 'stalk-surface-above-ring_k', 'stalk-surface-below-ring_k', 'ring-type_p', 'bruises_f']]\n",
        "selected"
      ],
      "metadata": {
        "colab": {
          "base_uri": "https://localhost:8080/",
          "height": 485
        },
        "id": "PVNzg1E19MSS",
        "outputId": "140f789e-644f-4574-cfcc-56feae043a9c"
      },
      "execution_count": null,
      "outputs": [
        {
          "output_type": "execute_result",
          "data": {
            "text/plain": [
              "      odor_f  gill-size_n  odor_n  stalk-surface-above-ring_k  \\\n",
              "0          0            1       0                           0   \n",
              "1          0            0       0                           0   \n",
              "2          0            0       0                           0   \n",
              "3          0            1       0                           0   \n",
              "4          0            0       1                           0   \n",
              "...      ...          ...     ...                         ...   \n",
              "8119       0            0       1                           0   \n",
              "8120       0            0       1                           0   \n",
              "8121       0            0       1                           0   \n",
              "8122       0            1       0                           0   \n",
              "8123       0            0       1                           0   \n",
              "\n",
              "      stalk-surface-below-ring_k  ring-type_p  bruises_f  \n",
              "0                              0            1          0  \n",
              "1                              0            1          0  \n",
              "2                              0            1          0  \n",
              "3                              0            1          0  \n",
              "4                              0            0          1  \n",
              "...                          ...          ...        ...  \n",
              "8119                           0            1          1  \n",
              "8120                           0            1          1  \n",
              "8121                           0            1          1  \n",
              "8122                           1            0          1  \n",
              "8123                           0            1          1  \n",
              "\n",
              "[8124 rows x 7 columns]"
            ],
            "text/html": [
              "\n",
              "  <div id=\"df-af7b04bc-3b9b-42d2-b408-061653cc9ea4\">\n",
              "    <div class=\"colab-df-container\">\n",
              "      <div>\n",
              "<style scoped>\n",
              "    .dataframe tbody tr th:only-of-type {\n",
              "        vertical-align: middle;\n",
              "    }\n",
              "\n",
              "    .dataframe tbody tr th {\n",
              "        vertical-align: top;\n",
              "    }\n",
              "\n",
              "    .dataframe thead th {\n",
              "        text-align: right;\n",
              "    }\n",
              "</style>\n",
              "<table border=\"1\" class=\"dataframe\">\n",
              "  <thead>\n",
              "    <tr style=\"text-align: right;\">\n",
              "      <th></th>\n",
              "      <th>odor_f</th>\n",
              "      <th>gill-size_n</th>\n",
              "      <th>odor_n</th>\n",
              "      <th>stalk-surface-above-ring_k</th>\n",
              "      <th>stalk-surface-below-ring_k</th>\n",
              "      <th>ring-type_p</th>\n",
              "      <th>bruises_f</th>\n",
              "    </tr>\n",
              "  </thead>\n",
              "  <tbody>\n",
              "    <tr>\n",
              "      <th>0</th>\n",
              "      <td>0</td>\n",
              "      <td>1</td>\n",
              "      <td>0</td>\n",
              "      <td>0</td>\n",
              "      <td>0</td>\n",
              "      <td>1</td>\n",
              "      <td>0</td>\n",
              "    </tr>\n",
              "    <tr>\n",
              "      <th>1</th>\n",
              "      <td>0</td>\n",
              "      <td>0</td>\n",
              "      <td>0</td>\n",
              "      <td>0</td>\n",
              "      <td>0</td>\n",
              "      <td>1</td>\n",
              "      <td>0</td>\n",
              "    </tr>\n",
              "    <tr>\n",
              "      <th>2</th>\n",
              "      <td>0</td>\n",
              "      <td>0</td>\n",
              "      <td>0</td>\n",
              "      <td>0</td>\n",
              "      <td>0</td>\n",
              "      <td>1</td>\n",
              "      <td>0</td>\n",
              "    </tr>\n",
              "    <tr>\n",
              "      <th>3</th>\n",
              "      <td>0</td>\n",
              "      <td>1</td>\n",
              "      <td>0</td>\n",
              "      <td>0</td>\n",
              "      <td>0</td>\n",
              "      <td>1</td>\n",
              "      <td>0</td>\n",
              "    </tr>\n",
              "    <tr>\n",
              "      <th>4</th>\n",
              "      <td>0</td>\n",
              "      <td>0</td>\n",
              "      <td>1</td>\n",
              "      <td>0</td>\n",
              "      <td>0</td>\n",
              "      <td>0</td>\n",
              "      <td>1</td>\n",
              "    </tr>\n",
              "    <tr>\n",
              "      <th>...</th>\n",
              "      <td>...</td>\n",
              "      <td>...</td>\n",
              "      <td>...</td>\n",
              "      <td>...</td>\n",
              "      <td>...</td>\n",
              "      <td>...</td>\n",
              "      <td>...</td>\n",
              "    </tr>\n",
              "    <tr>\n",
              "      <th>8119</th>\n",
              "      <td>0</td>\n",
              "      <td>0</td>\n",
              "      <td>1</td>\n",
              "      <td>0</td>\n",
              "      <td>0</td>\n",
              "      <td>1</td>\n",
              "      <td>1</td>\n",
              "    </tr>\n",
              "    <tr>\n",
              "      <th>8120</th>\n",
              "      <td>0</td>\n",
              "      <td>0</td>\n",
              "      <td>1</td>\n",
              "      <td>0</td>\n",
              "      <td>0</td>\n",
              "      <td>1</td>\n",
              "      <td>1</td>\n",
              "    </tr>\n",
              "    <tr>\n",
              "      <th>8121</th>\n",
              "      <td>0</td>\n",
              "      <td>0</td>\n",
              "      <td>1</td>\n",
              "      <td>0</td>\n",
              "      <td>0</td>\n",
              "      <td>1</td>\n",
              "      <td>1</td>\n",
              "    </tr>\n",
              "    <tr>\n",
              "      <th>8122</th>\n",
              "      <td>0</td>\n",
              "      <td>1</td>\n",
              "      <td>0</td>\n",
              "      <td>0</td>\n",
              "      <td>1</td>\n",
              "      <td>0</td>\n",
              "      <td>1</td>\n",
              "    </tr>\n",
              "    <tr>\n",
              "      <th>8123</th>\n",
              "      <td>0</td>\n",
              "      <td>0</td>\n",
              "      <td>1</td>\n",
              "      <td>0</td>\n",
              "      <td>0</td>\n",
              "      <td>1</td>\n",
              "      <td>1</td>\n",
              "    </tr>\n",
              "  </tbody>\n",
              "</table>\n",
              "<p>8124 rows × 7 columns</p>\n",
              "</div>\n",
              "      <button class=\"colab-df-convert\" onclick=\"convertToInteractive('df-af7b04bc-3b9b-42d2-b408-061653cc9ea4')\"\n",
              "              title=\"Convert this dataframe to an interactive table.\"\n",
              "              style=\"display:none;\">\n",
              "        \n",
              "  <svg xmlns=\"http://www.w3.org/2000/svg\" height=\"24px\"viewBox=\"0 0 24 24\"\n",
              "       width=\"24px\">\n",
              "    <path d=\"M0 0h24v24H0V0z\" fill=\"none\"/>\n",
              "    <path d=\"M18.56 5.44l.94 2.06.94-2.06 2.06-.94-2.06-.94-.94-2.06-.94 2.06-2.06.94zm-11 1L8.5 8.5l.94-2.06 2.06-.94-2.06-.94L8.5 2.5l-.94 2.06-2.06.94zm10 10l.94 2.06.94-2.06 2.06-.94-2.06-.94-.94-2.06-.94 2.06-2.06.94z\"/><path d=\"M17.41 7.96l-1.37-1.37c-.4-.4-.92-.59-1.43-.59-.52 0-1.04.2-1.43.59L10.3 9.45l-7.72 7.72c-.78.78-.78 2.05 0 2.83L4 21.41c.39.39.9.59 1.41.59.51 0 1.02-.2 1.41-.59l7.78-7.78 2.81-2.81c.8-.78.8-2.07 0-2.86zM5.41 20L4 18.59l7.72-7.72 1.47 1.35L5.41 20z\"/>\n",
              "  </svg>\n",
              "      </button>\n",
              "      \n",
              "  <style>\n",
              "    .colab-df-container {\n",
              "      display:flex;\n",
              "      flex-wrap:wrap;\n",
              "      gap: 12px;\n",
              "    }\n",
              "\n",
              "    .colab-df-convert {\n",
              "      background-color: #E8F0FE;\n",
              "      border: none;\n",
              "      border-radius: 50%;\n",
              "      cursor: pointer;\n",
              "      display: none;\n",
              "      fill: #1967D2;\n",
              "      height: 32px;\n",
              "      padding: 0 0 0 0;\n",
              "      width: 32px;\n",
              "    }\n",
              "\n",
              "    .colab-df-convert:hover {\n",
              "      background-color: #E2EBFA;\n",
              "      box-shadow: 0px 1px 2px rgba(60, 64, 67, 0.3), 0px 1px 3px 1px rgba(60, 64, 67, 0.15);\n",
              "      fill: #174EA6;\n",
              "    }\n",
              "\n",
              "    [theme=dark] .colab-df-convert {\n",
              "      background-color: #3B4455;\n",
              "      fill: #D2E3FC;\n",
              "    }\n",
              "\n",
              "    [theme=dark] .colab-df-convert:hover {\n",
              "      background-color: #434B5C;\n",
              "      box-shadow: 0px 1px 3px 1px rgba(0, 0, 0, 0.15);\n",
              "      filter: drop-shadow(0px 1px 2px rgba(0, 0, 0, 0.3));\n",
              "      fill: #FFFFFF;\n",
              "    }\n",
              "  </style>\n",
              "\n",
              "      <script>\n",
              "        const buttonEl =\n",
              "          document.querySelector('#df-af7b04bc-3b9b-42d2-b408-061653cc9ea4 button.colab-df-convert');\n",
              "        buttonEl.style.display =\n",
              "          google.colab.kernel.accessAllowed ? 'block' : 'none';\n",
              "\n",
              "        async function convertToInteractive(key) {\n",
              "          const element = document.querySelector('#df-af7b04bc-3b9b-42d2-b408-061653cc9ea4');\n",
              "          const dataTable =\n",
              "            await google.colab.kernel.invokeFunction('convertToInteractive',\n",
              "                                                     [key], {});\n",
              "          if (!dataTable) return;\n",
              "\n",
              "          const docLinkHtml = 'Like what you see? Visit the ' +\n",
              "            '<a target=\"_blank\" href=https://colab.research.google.com/notebooks/data_table.ipynb>data table notebook</a>'\n",
              "            + ' to learn more about interactive tables.';\n",
              "          element.innerHTML = '';\n",
              "          dataTable['output_type'] = 'display_data';\n",
              "          await google.colab.output.renderOutput(dataTable, element);\n",
              "          const docLink = document.createElement('div');\n",
              "          docLink.innerHTML = docLinkHtml;\n",
              "          element.appendChild(docLink);\n",
              "        }\n",
              "      </script>\n",
              "    </div>\n",
              "  </div>\n",
              "  "
            ]
          },
          "metadata": {},
          "execution_count": 15
        }
      ]
    },
    {
      "cell_type": "code",
      "source": [
        "from sklearn.model_selection import train_test_split\n",
        "y = df_encoded[\"class\"].values\n",
        "X = selected.values\n",
        "y = pd.DataFrame(y)\n",
        "X = pd.DataFrame(X)\n",
        "\n",
        "X_train, X_test, y_train, y_test = train_test_split(X, y, test_size=0.30)\n",
        "print(\"Train Set :\", X_train.shape, y_train.shape)\n",
        "print(\"Test Set  :\", X_test.shape, y_test.shape)"
      ],
      "metadata": {
        "colab": {
          "base_uri": "https://localhost:8080/"
        },
        "id": "DYj7B5eX9K_v",
        "outputId": "d9ce0934-4b05-4263-a069-2415747e5f22"
      },
      "execution_count": null,
      "outputs": [
        {
          "output_type": "stream",
          "name": "stdout",
          "text": [
            "Train Set : (5686, 7) (5686, 1)\n",
            "Test Set  : (2438, 7) (2438, 1)\n"
          ]
        }
      ]
    },
    {
      "cell_type": "markdown",
      "metadata": {
        "id": "__mekm859POO"
      },
      "source": [
        "## Model training"
      ]
    },
    {
      "cell_type": "markdown",
      "metadata": {
        "id": "NgZgF59i-iNa"
      },
      "source": [
        "### Model 1: Logistic Regression"
      ]
    },
    {
      "cell_type": "code",
      "execution_count": null,
      "metadata": {
        "colab": {
          "base_uri": "https://localhost:8080/"
        },
        "id": "EhhgrgkEBEwf",
        "outputId": "58718179-1c89-4076-cfb1-1a054f44fc4e"
      },
      "outputs": [
        {
          "output_type": "stream",
          "name": "stdout",
          "text": [
            "Accuracy score for the test set=97.74%\n",
            "Accuracy score for the train set=97.73%\n",
            "Difference: = -0.00%\n"
          ]
        }
      ],
      "source": [
        "# Logistic Regression\n",
        "from sklearn.metrics import accuracy_score\n",
        "from sklearn.linear_model import LogisticRegression\n",
        "\n",
        "# fit a logistic regression model to the data\n",
        "lr = LogisticRegression()\n",
        "lr.fit(X_train, y_train)\n",
        "\n",
        "y_hat= lr.predict(X_test)\n",
        "\n",
        "lrtest = accuracy_score(y_test, y_hat)\n",
        "print(\"Accuracy score for the test set={:.2f}%\".format(lrtest*100))\n",
        "\n",
        "# check against train set to see overfitting:\n",
        "# the parameters would put actual values, then the predicted value\n",
        "# when the difference between train and test > 10% would be overfitting\n",
        "# underfitting: too simple model, 40%-50% accuracy (considered very bad)\n",
        "y2_hat= lr.predict(X_train)\n",
        "lrtrain = accuracy_score(y_train, y2_hat)\n",
        "print(\"Accuracy score for the train set={:.2f}%\".format(lrtrain*100))\n",
        "\n",
        "#Check difference to see if it overfits or underfits\n",
        "print(\"Difference: = {:.2f}%\".format(lrtrain-lrtest))"
      ]
    },
    {
      "cell_type": "code",
      "execution_count": null,
      "metadata": {
        "colab": {
          "base_uri": "https://localhost:8080/",
          "height": 471
        },
        "id": "ue3sqQueQ1E6",
        "outputId": "06d569fd-b939-4cca-843a-05b571f4621b"
      },
      "outputs": [
        {
          "output_type": "display_data",
          "data": {
            "text/plain": [
              "<Figure size 1800x600 with 4 Axes>"
            ],
            "image/png": "[encoded data removed]"
          },
          "metadata": {}
        },
        {
          "output_type": "stream",
          "name": "stdout",
          "text": [
            "True Positive Rate train: 97.76%\t\n",
            "False Positive Rate train: 2.30%\t\n",
            "True Negative Rate train: 97.70%\t\n",
            "False Negative Rate train: 2.24%\t\n",
            "\n",
            "True Positive Rate test: 97.73%\t\n",
            "False Positive Rate test: 2.24%\t\n",
            "True Negative Rate test: 97.76%\t\n",
            "False Negative Rate test: 2.27%\t\n"
          ]
        }
      ],
      "source": [
        "# Logistic Regression\n",
        "from sklearn.metrics import confusion_matrix\n",
        "\n",
        "# Plot the Confusion Matrix for Train and then Test\n",
        "cmtrain2 = confusion_matrix(y_train, y2_hat)\n",
        "cmtest2 = confusion_matrix(y_test, y_hat)\n",
        "\n",
        "# Get the labels and data count:\n",
        "names = ['True N','False P','False N','True P']\n",
        "ctrain2 = ['{0:0.0f}'.format(value) for value in cmtrain2.flatten()]\n",
        "ctest2 = ['{0:0.0f}'.format(value) for value in cmtest2.flatten()]\n",
        "ltrain2 = [f'{v1}\\n{v2}' for v1, v2 in zip(names,ctrain2)]\n",
        "ltest2 = [f'{v1}\\n{v2}' for v1, v2 in zip(names,ctest2)]\n",
        "ltrain2 = np.asarray(ltrain2).reshape(2,2)\n",
        "ltest2 = np.asarray(ltest2).reshape(2,2)\n",
        "\n",
        "f, axes = plt.subplots(1, 2, figsize=(18, 6))\n",
        "sns.heatmap(cmtest2, annot = ltest2, fmt='', annot_kws={\"size\": 20},\n",
        "            ax = axes[1]).set_title(\"Confusion Matrix for Test set\", fontsize=15)\n",
        "sns.heatmap(cmtrain2, annot = ltrain2, fmt='', annot_kws={\"size\": 20},\n",
        "            ax = axes[0]).set_title(\"Confusion Matrix for Train set\", fontsize=15)\n",
        "plt.show()\n",
        "\n",
        "# show rates - train\n",
        "tp2train = cmtrain2[1][1]/(sum(cmtrain2[1]))\n",
        "fp2train = cmtrain2[0][1]/(sum(cmtrain2[0]))\n",
        "tn2train = cmtrain2[0][0]/(sum(cmtrain2[0]))\n",
        "fn2train = cmtrain2[1][0]/(sum(cmtrain2[1]))\n",
        "\n",
        "print(\"True Positive Rate train: {:.2f}%\\t\".format(tp2train*100))\n",
        "print(\"False Positive Rate train: {:.2f}%\\t\".format(fp2train*100))\n",
        "print(\"True Negative Rate train: {:.2f}%\\t\".format(tn2train*100))\n",
        "print(\"False Negative Rate train: {:.2f}%\\t\".format(fn2train*100))\n",
        "print()\n",
        "\n",
        "# show rates - test\n",
        "tp2test = cmtest2[1][1]/(sum(cmtest2[1]))\n",
        "fp2test = cmtest2[0][1]/(sum(cmtest2[0]))\n",
        "tn2test = cmtest2[0][0]/(sum(cmtest2[0]))\n",
        "fn2test = cmtest2[1][0]/(sum(cmtest2[1]))\n",
        "\n",
        "print(\"True Positive Rate test: {:.2f}%\\t\".format(tp2test*100))\n",
        "print(\"False Positive Rate test: {:.2f}%\\t\".format(fp2test*100))\n",
        "print(\"True Negative Rate test: {:.2f}%\\t\".format(tn2test*100))\n",
        "print(\"False Negative Rate test: {:.2f}%\\t\".format(fn2test*100))"
      ]
    },
    {
      "cell_type": "code",
      "execution_count": null,
      "metadata": {
        "colab": {
          "base_uri": "https://localhost:8080/"
        },
        "id": "7QtcC2KW8njN",
        "outputId": "20a7b841-ba31-43da-81a6-aab574d333f4"
      },
      "outputs": [
        {
          "output_type": "stream",
          "name": "stdout",
          "text": [
            "AUC Logistic Regression: 0.9848963343457161\n",
            "AUC scores computed using 5-fold cross-validation: [0.96265    0.99177292 0.95282927 1.         0.9985543 ]\n"
          ]
        }
      ],
      "source": [
        "# Import necessary modules\n",
        "from sklearn.metrics import roc_auc_score\n",
        "from sklearn.model_selection import cross_val_score\n",
        "\n",
        "# Compute predicted probabilities: y_pred_prob\n",
        "y_pred_prob = lr.predict_proba(X_test)[:,1]\n",
        "auclr = roc_auc_score(y_test, y_pred_prob)\n",
        "\n",
        "# Compute and print AUC score\n",
        "print(\"AUC Logistic Regression: {}\".format(auclr))\n",
        "\n",
        "# Compute cross-validated AUC scores: cv_auc\n",
        "cv_auc_lr = cross_val_score(lr, X, y, cv=5, scoring='roc_auc')\n",
        "\n",
        "# Print list of AUC scores\n",
        "print(\"AUC scores computed using 5-fold cross-validation: {}\".format(cv_auc_lr))"
      ]
    },
    {
      "cell_type": "markdown",
      "metadata": {
        "id": "exCQpfWWBI2r"
      },
      "source": [
        "### Model 2: Random Forest"
      ]
    },
    {
      "cell_type": "code",
      "execution_count": null,
      "metadata": {
        "colab": {
          "base_uri": "https://localhost:8080/"
        },
        "id": "DkkKDjyxBLAQ",
        "outputId": "796598fc-7b87-4b9f-a24c-34ad2c1b6fab"
      },
      "outputs": [
        {
          "output_type": "stream",
          "name": "stdout",
          "text": [
            "Accuracy score for the test set=97.87%\n",
            "Accuracy score for the train set=97.82%\n",
            "Difference: = -0.00%\n"
          ]
        }
      ],
      "source": [
        "from sklearn.metrics import accuracy_score\n",
        "from sklearn.ensemble import RandomForestClassifier\n",
        "\n",
        "# Get the RandomForestClassifier model and fit in the data\n",
        "rf = RandomForestClassifier(n_estimators=1, max_depth=50, max_features=3, min_samples_leaf = 3)\n",
        "rf.fit(X_train, y_train)\n",
        "\n",
        "y_hat= rf.predict(X_test)\n",
        "\n",
        "rftest = accuracy_score(y_test, y_hat)\n",
        "print(\"Accuracy score for the test set={:.2f}%\".format(rftest*100))\n",
        "\n",
        "# check against train set to see overfitting:\n",
        "# the parameters would put actual values, then the predicted value\n",
        "# when the difference between train and test > 10% would be overfitting\n",
        "# underfitting: too simple model, 40%-50% accuracy (considered very bad)\n",
        "y2_hat= rf.predict(X_train)\n",
        "rftrain = accuracy_score(y_train, y2_hat)\n",
        "print(\"Accuracy score for the train set={:.2f}%\".format(rftrain*100))\n",
        "\n",
        "#Check difference to see if it overfits or underfits\n",
        "print(\"Difference: = {:.2f}%\".format(rftrain-rftest))"
      ]
    },
    {
      "cell_type": "code",
      "execution_count": null,
      "metadata": {
        "colab": {
          "base_uri": "https://localhost:8080/",
          "height": 471
        },
        "id": "LhQuAxp1Sb9G",
        "outputId": "9e7e38ef-9b49-44a6-874d-550106003b31"
      },
      "outputs": [
        {
          "output_type": "display_data",
          "data": {
            "text/plain": [
              "<Figure size 1800x600 with 4 Axes>"
            ],
            "image/png": "[encoded data removed]"
          },
          "metadata": {}
        },
        {
          "output_type": "stream",
          "name": "stdout",
          "text": [
            "True Positive Rate train: 97.94%\t\n",
            "False Positive Rate train: 2.30%\t\n",
            "True Negative Rate train: 97.70%\t\n",
            "False Negative Rate train: 2.06%\t\n",
            "\n",
            "True Positive Rate test: 97.99%\t\n",
            "False Positive Rate test: 2.24%\t\n",
            "True Negative Rate test: 97.76%\t\n",
            "False Negative Rate test: 2.01%\t\n"
          ]
        }
      ],
      "source": [
        "# random forest\n",
        "from sklearn.metrics import confusion_matrix\n",
        "\n",
        "# Plot the Confusion Matrix for Train and then Test\n",
        "cmtrain2 = confusion_matrix(y_train, y2_hat)\n",
        "cmtest2 = confusion_matrix(y_test, y_hat)\n",
        "\n",
        "# Get the labels and data count:\n",
        "names = ['True N','False P','False N','True P']\n",
        "ctrain2 = ['{0:0.0f}'.format(value) for value in cmtrain2.flatten()]\n",
        "ctest2 = ['{0:0.0f}'.format(value) for value in cmtest2.flatten()]\n",
        "ltrain2 = [f'{v1}\\n{v2}' for v1, v2 in zip(names,ctrain2)]\n",
        "ltest2 = [f'{v1}\\n{v2}' for v1, v2 in zip(names,ctest2)]\n",
        "ltrain2 = np.asarray(ltrain2).reshape(2,2)\n",
        "ltest2 = np.asarray(ltest2).reshape(2,2)\n",
        "\n",
        "f, axes = plt.subplots(1, 2, figsize=(18, 6))\n",
        "sns.heatmap(cmtest2, annot = ltest2, fmt='', annot_kws={\"size\": 20},\n",
        "            ax = axes[1]).set_title(\"Confusion Matrix for Test set\", fontsize=15)\n",
        "sns.heatmap(cmtrain2, annot = ltrain2, fmt='', annot_kws={\"size\": 20},\n",
        "            ax = axes[0]).set_title(\"Confusion Matrix for Train set\", fontsize=15)\n",
        "plt.show()\n",
        "\n",
        "# show rates - train\n",
        "tp2train = cmtrain2[1][1]/(sum(cmtrain2[1]))\n",
        "fp2train = cmtrain2[0][1]/(sum(cmtrain2[0]))\n",
        "tn2train = cmtrain2[0][0]/(sum(cmtrain2[0]))\n",
        "fn2train = cmtrain2[1][0]/(sum(cmtrain2[1]))\n",
        "\n",
        "print(\"True Positive Rate train: {:.2f}%\\t\".format(tp2train*100))\n",
        "print(\"False Positive Rate train: {:.2f}%\\t\".format(fp2train*100))\n",
        "print(\"True Negative Rate train: {:.2f}%\\t\".format(tn2train*100))\n",
        "print(\"False Negative Rate train: {:.2f}%\\t\".format(fn2train*100))\n",
        "print()\n",
        "\n",
        "# show rates - test\n",
        "tp2test = cmtest2[1][1]/(sum(cmtest2[1]))\n",
        "fp2test = cmtest2[0][1]/(sum(cmtest2[0]))\n",
        "tn2test = cmtest2[0][0]/(sum(cmtest2[0]))\n",
        "fn2test = cmtest2[1][0]/(sum(cmtest2[1]))\n",
        "\n",
        "print(\"True Positive Rate test: {:.2f}%\\t\".format(tp2test*100))\n",
        "print(\"False Positive Rate test: {:.2f}%\\t\".format(fp2test*100))\n",
        "print(\"True Negative Rate test: {:.2f}%\\t\".format(tn2test*100))\n",
        "print(\"False Negative Rate test: {:.2f}%\\t\".format(fn2test*100))"
      ]
    },
    {
      "cell_type": "code",
      "execution_count": null,
      "metadata": {
        "colab": {
          "base_uri": "https://localhost:8080/"
        },
        "id": "TeFB3hmy8y3A",
        "outputId": "06604591-6590-4ac7-971c-9c310a84f9b3"
      },
      "outputs": [
        {
          "output_type": "stream",
          "name": "stdout",
          "text": [
            "AUC Random Forest: 0.9943313545033019\n",
            "AUC scores computed using 5-fold cross-validation: [0.83498068 0.99908689 0.96498864 1.         0.95418244]\n"
          ]
        }
      ],
      "source": [
        "# Import necessary modules\n",
        "from sklearn.metrics import roc_auc_score\n",
        "from sklearn.model_selection import cross_val_score\n",
        "\n",
        "# Compute predicted probabilities: y_pred_prob\n",
        "y_pred_prob = rf.predict_proba(X_test)[:,1]\n",
        "aucrf = roc_auc_score(y_test, y_pred_prob)\n",
        "\n",
        "# Compute and print AUC score\n",
        "print(\"AUC Random Forest: {}\".format(aucrf))\n",
        "\n",
        "# Compute cross-validated AUC scores: cv_auc\n",
        "cv_auc_rf = cross_val_score(rf, X, y, cv=5, scoring='roc_auc')\n",
        "\n",
        "# Print list of AUC scores\n",
        "print(\"AUC scores computed using 5-fold cross-validation: {}\".format(cv_auc_rf))"
      ]
    },
    {
      "cell_type": "markdown",
      "metadata": {
        "id": "3_86Nm1cC2fj"
      },
      "source": [
        "### Model 3: Support Vector Machines (SVM)"
      ]
    },
    {
      "cell_type": "code",
      "execution_count": null,
      "metadata": {
        "colab": {
          "base_uri": "https://localhost:8080/"
        },
        "id": "GBwgV2qKC4i-",
        "outputId": "676cfd8c-a4ad-42d3-9e7c-de7dc0fdea4c"
      },
      "outputs": [
        {
          "output_type": "stream",
          "name": "stdout",
          "text": [
            "Accuracy score for the test set=97.74%\n",
            "Accuracy score for the train set=97.73%\n",
            "Difference: = -0.00%\n"
          ]
        }
      ],
      "source": [
        "# Support Vector Machine\n",
        "from sklearn.metrics import accuracy_score\n",
        "from sklearn.svm import SVC, LinearSVC\n",
        "\n",
        "# fit a SVM model to the data\n",
        "svm = SVC(kernel='linear', probability=True)\n",
        "svm.fit(X_train, y_train)\n",
        "\n",
        "y_hat= svm.predict(X_test)\n",
        "\n",
        "svmtest = accuracy_score(y_test, y_hat)\n",
        "print(\"Accuracy score for the test set={:.2f}%\".format(svmtest*100))\n",
        "\n",
        "# check against train set to see overfitting:\n",
        "# the parameters would put actual values, then the predicted value\n",
        "# when the difference between train and test > 10% would be overfitting\n",
        "# underfitting: too simple model, 40%-50% accuracy (considered very bad)\n",
        "y2_hat= svm.predict(X_train)\n",
        "svmtrain = accuracy_score(y_train, y2_hat)\n",
        "print(\"Accuracy score for the train set={:.2f}%\".format(svmtrain*100))\n",
        "\n",
        "#Check difference to see if it overfits or underfits\n",
        "print(\"Difference: = {:.2f}%\".format(svmtrain-svmtest))"
      ]
    },
    {
      "cell_type": "code",
      "execution_count": null,
      "metadata": {
        "colab": {
          "base_uri": "https://localhost:8080/",
          "height": 471
        },
        "id": "OpADjuIVSdeX",
        "outputId": "12594c1a-45dc-4736-aaec-0270dd84c66b"
      },
      "outputs": [
        {
          "output_type": "display_data",
          "data": {
            "text/plain": [
              "<Figure size 1800x600 with 4 Axes>"
            ],
            "image/png": "[encoded data removed]"
          },
          "metadata": {}
        },
        {
          "output_type": "stream",
          "name": "stdout",
          "text": [
            "True Positive Rate train: 97.76%\t\n",
            "False Positive Rate train: 2.30%\t\n",
            "True Negative Rate train: 97.70%\t\n",
            "False Negative Rate train: 2.24%\t\n",
            "\n",
            "True Positive Rate test: 97.73%\t\n",
            "False Positive Rate test: 2.24%\t\n",
            "True Negative Rate test: 97.76%\t\n",
            "False Negative Rate test: 2.27%\t\n"
          ]
        }
      ],
      "source": [
        "# Logistic Regression\n",
        "from sklearn.metrics import confusion_matrix\n",
        "\n",
        "# Plot the Confusion Matrix for Train and then Test\n",
        "cmtrain2 = confusion_matrix(y_train, y2_hat)\n",
        "cmtest2 = confusion_matrix(y_test, y_hat)\n",
        "\n",
        "# Get the labels and data count:\n",
        "names = ['True N','False P','False N','True P']\n",
        "ctrain2 = ['{0:0.0f}'.format(value) for value in cmtrain2.flatten()]\n",
        "ctest2 = ['{0:0.0f}'.format(value) for value in cmtest2.flatten()]\n",
        "ltrain2 = [f'{v1}\\n{v2}' for v1, v2 in zip(names,ctrain2)]\n",
        "ltest2 = [f'{v1}\\n{v2}' for v1, v2 in zip(names,ctest2)]\n",
        "ltrain2 = np.asarray(ltrain2).reshape(2,2)\n",
        "ltest2 = np.asarray(ltest2).reshape(2,2)\n",
        "\n",
        "f, axes = plt.subplots(1, 2, figsize=(18, 6))\n",
        "sns.heatmap(cmtest2, annot = ltest2, fmt='', annot_kws={\"size\": 20},\n",
        "            ax = axes[1]).set_title(\"Confusion Matrix for Test set\", fontsize=15)\n",
        "sns.heatmap(cmtrain2, annot = ltrain2, fmt='', annot_kws={\"size\": 20},\n",
        "            ax = axes[0]).set_title(\"Confusion Matrix for Train set\", fontsize=15)\n",
        "plt.show()\n",
        "\n",
        "# show rates - train\n",
        "tp2train = cmtrain2[1][1]/(sum(cmtrain2[1]))\n",
        "fp2train = cmtrain2[0][1]/(sum(cmtrain2[0]))\n",
        "tn2train = cmtrain2[0][0]/(sum(cmtrain2[0]))\n",
        "fn2train = cmtrain2[1][0]/(sum(cmtrain2[1]))\n",
        "\n",
        "print(\"True Positive Rate train: {:.2f}%\\t\".format(tp2train*100))\n",
        "print(\"False Positive Rate train: {:.2f}%\\t\".format(fp2train*100))\n",
        "print(\"True Negative Rate train: {:.2f}%\\t\".format(tn2train*100))\n",
        "print(\"False Negative Rate train: {:.2f}%\\t\".format(fn2train*100))\n",
        "print()\n",
        "\n",
        "# show rates - test\n",
        "tp2test = cmtest2[1][1]/(sum(cmtest2[1]))\n",
        "fp2test = cmtest2[0][1]/(sum(cmtest2[0]))\n",
        "tn2test = cmtest2[0][0]/(sum(cmtest2[0]))\n",
        "fn2test = cmtest2[1][0]/(sum(cmtest2[1]))\n",
        "\n",
        "print(\"True Positive Rate test: {:.2f}%\\t\".format(tp2test*100))\n",
        "print(\"False Positive Rate test: {:.2f}%\\t\".format(fp2test*100))\n",
        "print(\"True Negative Rate test: {:.2f}%\\t\".format(tn2test*100))\n",
        "print(\"False Negative Rate test: {:.2f}%\\t\".format(fn2test*100))"
      ]
    },
    {
      "cell_type": "code",
      "execution_count": null,
      "metadata": {
        "colab": {
          "base_uri": "https://localhost:8080/"
        },
        "id": "6rZsSvE485Id",
        "outputId": "bca48ebc-d32e-494b-9c30-e14cbd90fde4"
      },
      "outputs": [
        {
          "output_type": "stream",
          "name": "stdout",
          "text": [
            "AUC SVM: 0.9824914749083992\n",
            "AUC scores computed using 5-fold cross-validation: [0.96265    0.99615796 0.95271096 1.         0.99942901]\n"
          ]
        }
      ],
      "source": [
        "# Import necessary modules\n",
        "from sklearn.metrics import roc_auc_score\n",
        "from sklearn.model_selection import cross_val_score\n",
        "\n",
        "# Compute predicted probabilities: y_pred_prob\n",
        "y_pred_prob = svm.predict_proba(X_test)[:,1]\n",
        "aucsvm = roc_auc_score(y_test, y_pred_prob)\n",
        "\n",
        "# Compute and print AUC score\n",
        "print(\"AUC SVM: {}\".format(aucsvm))\n",
        "\n",
        "# Compute cross-validated AUC scores: cv_auc\n",
        "cv_auc_svm = cross_val_score(svm, X, y, cv=5, scoring='roc_auc')\n",
        "\n",
        "# Print list of AUC scores\n",
        "print(\"AUC scores computed using 5-fold cross-validation: {}\".format(cv_auc_svm))"
      ]
    },
    {
      "cell_type": "markdown",
      "metadata": {
        "id": "ubuRlzbWC5nJ"
      },
      "source": [
        "## Comparing the 3 models"
      ]
    },
    {
      "cell_type": "code",
      "execution_count": null,
      "metadata": {
        "colab": {
          "base_uri": "https://localhost:8080/",
          "height": 288
        },
        "id": "KCuHXwuMDfYS",
        "outputId": "6b6f1eb0-bfaf-4e57-d3a2-f14e7e140ff9"
      },
      "outputs": [
        {
          "output_type": "execute_result",
          "data": {
            "text/plain": [
              "                                      Model  Score For train  Score For test  \\\n",
              "Diff (train-test)                                                              \n",
              "-0.000128               Logistic Regression         0.977313        0.977441   \n",
              "-0.000128           Support Vector Machines         0.977313        0.977441   \n",
              "-0.000479          Random Forest Classifier         0.978192        0.978671   \n",
              "\n",
              "                   AUC scores  Diff (AUC-train)  Diff (AUC-test)  \n",
              "Diff (train-test)                                                 \n",
              "-0.000128            0.984896          0.007584         0.007456  \n",
              "-0.000128            0.982491          0.005179         0.005051  \n",
              "-0.000479            0.994331          0.016139         0.015660  "
            ],
            "text/html": [
              "\n",
              "  <div id=\"df-dadca631-1c64-4566-8eb5-00a4dd33b096\">\n",
              "    <div class=\"colab-df-container\">\n",
              "      <div>\n",
              "<style scoped>\n",
              "    .dataframe tbody tr th:only-of-type {\n",
              "        vertical-align: middle;\n",
              "    }\n",
              "\n",
              "    .dataframe tbody tr th {\n",
              "        vertical-align: top;\n",
              "    }\n",
              "\n",
              "    .dataframe thead th {\n",
              "        text-align: right;\n",
              "    }\n",
              "</style>\n",
              "<table border=\"1\" class=\"dataframe\">\n",
              "  <thead>\n",
              "    <tr style=\"text-align: right;\">\n",
              "      <th></th>\n",
              "      <th>Model</th>\n",
              "      <th>Score For train</th>\n",
              "      <th>Score For test</th>\n",
              "      <th>AUC scores</th>\n",
              "      <th>Diff (AUC-train)</th>\n",
              "      <th>Diff (AUC-test)</th>\n",
              "    </tr>\n",
              "    <tr>\n",
              "      <th>Diff (train-test)</th>\n",
              "      <th></th>\n",
              "      <th></th>\n",
              "      <th></th>\n",
              "      <th></th>\n",
              "      <th></th>\n",
              "      <th></th>\n",
              "    </tr>\n",
              "  </thead>\n",
              "  <tbody>\n",
              "    <tr>\n",
              "      <th>-0.000128</th>\n",
              "      <td>Logistic Regression</td>\n",
              "      <td>0.977313</td>\n",
              "      <td>0.977441</td>\n",
              "      <td>0.984896</td>\n",
              "      <td>0.007584</td>\n",
              "      <td>0.007456</td>\n",
              "    </tr>\n",
              "    <tr>\n",
              "      <th>-0.000128</th>\n",
              "      <td>Support Vector Machines</td>\n",
              "      <td>0.977313</td>\n",
              "      <td>0.977441</td>\n",
              "      <td>0.982491</td>\n",
              "      <td>0.005179</td>\n",
              "      <td>0.005051</td>\n",
              "    </tr>\n",
              "    <tr>\n",
              "      <th>-0.000479</th>\n",
              "      <td>Random Forest Classifier</td>\n",
              "      <td>0.978192</td>\n",
              "      <td>0.978671</td>\n",
              "      <td>0.994331</td>\n",
              "      <td>0.016139</td>\n",
              "      <td>0.015660</td>\n",
              "    </tr>\n",
              "  </tbody>\n",
              "</table>\n",
              "</div>\n",
              "      <button class=\"colab-df-convert\" onclick=\"convertToInteractive('df-dadca631-1c64-4566-8eb5-00a4dd33b096')\"\n",
              "              title=\"Convert this dataframe to an interactive table.\"\n",
              "              style=\"display:none;\">\n",
              "        \n",
              "  <svg xmlns=\"http://www.w3.org/2000/svg\" height=\"24px\"viewBox=\"0 0 24 24\"\n",
              "       width=\"24px\">\n",
              "    <path d=\"M0 0h24v24H0V0z\" fill=\"none\"/>\n",
              "    <path d=\"M18.56 5.44l.94 2.06.94-2.06 2.06-.94-2.06-.94-.94-2.06-.94 2.06-2.06.94zm-11 1L8.5 8.5l.94-2.06 2.06-.94-2.06-.94L8.5 2.5l-.94 2.06-2.06.94zm10 10l.94 2.06.94-2.06 2.06-.94-2.06-.94-.94-2.06-.94 2.06-2.06.94z\"/><path d=\"M17.41 7.96l-1.37-1.37c-.4-.4-.92-.59-1.43-.59-.52 0-1.04.2-1.43.59L10.3 9.45l-7.72 7.72c-.78.78-.78 2.05 0 2.83L4 21.41c.39.39.9.59 1.41.59.51 0 1.02-.2 1.41-.59l7.78-7.78 2.81-2.81c.8-.78.8-2.07 0-2.86zM5.41 20L4 18.59l7.72-7.72 1.47 1.35L5.41 20z\"/>\n",
              "  </svg>\n",
              "      </button>\n",
              "      \n",
              "  <style>\n",
              "    .colab-df-container {\n",
              "      display:flex;\n",
              "      flex-wrap:wrap;\n",
              "      gap: 12px;\n",
              "    }\n",
              "\n",
              "    .colab-df-convert {\n",
              "      background-color: #E8F0FE;\n",
              "      border: none;\n",
              "      border-radius: 50%;\n",
              "      cursor: pointer;\n",
              "      display: none;\n",
              "      fill: #1967D2;\n",
              "      height: 32px;\n",
              "      padding: 0 0 0 0;\n",
              "      width: 32px;\n",
              "    }\n",
              "\n",
              "    .colab-df-convert:hover {\n",
              "      background-color: #E2EBFA;\n",
              "      box-shadow: 0px 1px 2px rgba(60, 64, 67, 0.3), 0px 1px 3px 1px rgba(60, 64, 67, 0.15);\n",
              "      fill: #174EA6;\n",
              "    }\n",
              "\n",
              "    [theme=dark] .colab-df-convert {\n",
              "      background-color: #3B4455;\n",
              "      fill: #D2E3FC;\n",
              "    }\n",
              "\n",
              "    [theme=dark] .colab-df-convert:hover {\n",
              "      background-color: #434B5C;\n",
              "      box-shadow: 0px 1px 3px 1px rgba(0, 0, 0, 0.15);\n",
              "      filter: drop-shadow(0px 1px 2px rgba(0, 0, 0, 0.3));\n",
              "      fill: #FFFFFF;\n",
              "    }\n",
              "  </style>\n",
              "\n",
              "      <script>\n",
              "        const buttonEl =\n",
              "          document.querySelector('#df-dadca631-1c64-4566-8eb5-00a4dd33b096 button.colab-df-convert');\n",
              "        buttonEl.style.display =\n",
              "          google.colab.kernel.accessAllowed ? 'block' : 'none';\n",
              "\n",
              "        async function convertToInteractive(key) {\n",
              "          const element = document.querySelector('#df-dadca631-1c64-4566-8eb5-00a4dd33b096');\n",
              "          const dataTable =\n",
              "            await google.colab.kernel.invokeFunction('convertToInteractive',\n",
              "                                                     [key], {});\n",
              "          if (!dataTable) return;\n",
              "\n",
              "          const docLinkHtml = 'Like what you see? Visit the ' +\n",
              "            '<a target=\"_blank\" href=https://colab.research.google.com/notebooks/data_table.ipynb>data table notebook</a>'\n",
              "            + ' to learn more about interactive tables.';\n",
              "          element.innerHTML = '';\n",
              "          dataTable['output_type'] = 'display_data';\n",
              "          await google.colab.output.renderOutput(dataTable, element);\n",
              "          const docLink = document.createElement('div');\n",
              "          docLink.innerHTML = docLinkHtml;\n",
              "          element.appendChild(docLink);\n",
              "        }\n",
              "      </script>\n",
              "    </div>\n",
              "  </div>\n",
              "  "
            ]
          },
          "metadata": {},
          "execution_count": 27
        }
      ],
      "source": [
        "# Based on evaluation score on test set\n",
        "results = pd.DataFrame({\n",
        "    # The model names\n",
        "    'Model': ['Logistic Regression', 'Random Forest Classifier', 'Support Vector Machines'],\n",
        "\n",
        "    # The evaluation scores of train set\n",
        "    'Score For train': [lrtrain, rftrain, svmtrain],\n",
        "\n",
        "\n",
        "    # The evaluation scores of test set\n",
        "    'Score For test': [lrtest, rftest, svmtest],\n",
        "\n",
        "    # The scores for AUC\n",
        "    'AUC scores': [auclr, aucrf, aucsvm],\n",
        "\n",
        "    # The difference in evaluation scores between test and train set\n",
        "    'Diff (train-test)': [(lrtrain-lrtest), (rftrain-rftest), (svmtrain-svmtest)],\n",
        "\n",
        "    # The difference in evaluation scores AUC scores and train set\n",
        "    'Diff (AUC-train)': [(auclr-lrtrain), (aucrf-rftrain), (aucsvm-svmtrain)],\n",
        "\n",
        "    # The difference in evaluation scores AUC scores and test set\n",
        "    'Diff (AUC-test)': [(auclr-lrtest), (aucrf-rftest), (aucsvm-svmtest)]})\n",
        "\n",
        "# Make a dataframe and parse in values\n",
        "res = results.sort_values(by='Diff (train-test)', ascending=False)\n",
        "# Sort by difference and rest index: reset the index without inserting it as a column\n",
        "res = res.set_index('Diff (train-test)')\n",
        "res"
      ]
    },
    {
      "cell_type": "markdown",
      "metadata": {
        "id": "fq5qCjZ7KiQk"
      },
      "source": [
        "## Conclusions/Insights gained"
      ]
    },
    {
      "cell_type": "markdown",
      "source": [
        "- According to the train scores: Random Forest Classifier performed the best\n",
        "- According to the test scores: Random forest Classifier performed the best\n",
        "- According to the difference in test and train scores: Both Logistic Regression and SVM performed the best. However, the difference is less than 1% which is not even close to overfitting, we can still conclude Random Forest performed the best at this point\n",
        "- According to the AUC scores: Random Forest performed the best\n",
        "- According to the difference in AUC score and train set: SVM performed the best. Though the difference for Random Forest is the highest, the difference is considered insignificant so it can still be concluded to be the best model among the 3 at this point.\n",
        "- According to the difference in AUC score and test set: SVM performed the best. Though the difference for Random Forest is the highest, the difference is considered insignificant so it can still be concluded to be the best model among the 3 at this point.\n",
        "- <b>Therefore, we concluded the Random Forest is the best classifier to classify mushrooms among the 3 classifiers. Users are recommended the use random forest to help verify whether the mushrooms are edible or poisonous. However, users must noot overrely on the model. It is also important for users to treat the model as a reference and double check the mushrooms before consuming</b>\n",
        "- <b>Also, all 3 have attained a score of around 0.97, which we deem is good enough, we do not need to do ensembling to increase the accuracy.</b>"
      ],
      "metadata": {
        "id": "CwU3Tk0PAFhU"
      }
    },
    {
      "cell_type": "markdown",
      "source": [
        "## Additional Exploration - Hyperparameter tuning via GridSearchCV and RandomizedSearchCV\n",
        "## Solely extra exploration, not included in resolving problem statement"
      ],
      "metadata": {
        "id": "iO-r6iJO8TDh"
      }
    },
    {
      "cell_type": "markdown",
      "source": [
        "### GridSearchCV"
      ],
      "metadata": {
        "id": "VboVznpn_w-2"
      }
    },
    {
      "cell_type": "code",
      "source": [
        "from sklearn.model_selection import GridSearchCV\n",
        "# Create the parameter grid based on the results of random search\n",
        "param_grid = {\n",
        "    'bootstrap': [True],\n",
        "    'max_depth': [80, 90, 100, 110],\n",
        "    'max_features': [2, 3],\n",
        "    'min_samples_leaf': [3, 4, 5],\n",
        "    'min_samples_split': [8, 10, 12],\n",
        "    'n_estimators': [100, 200, 300, 1000]\n",
        "}\n",
        "print(random_grid)"
      ],
      "metadata": {
        "colab": {
          "base_uri": "https://localhost:8080/"
        },
        "id": "XqLmze2N_4nR",
        "outputId": "5eb23a19-1026-4780-f993-6949098f08f4"
      },
      "execution_count": null,
      "outputs": [
        {
          "output_type": "stream",
          "name": "stdout",
          "text": [
            "{'n_estimators': [200, 400, 600, 800, 1000, 1200, 1400, 1600, 1800, 2000], 'max_features': ['auto', 'sqrt'], 'max_depth': [10, 20, 30, 40, 50, 60, 70, 80, 90, 100, 110, None], 'min_samples_split': [2, 5, 10], 'min_samples_leaf': [1, 2, 4], 'bootstrap': [True, False]}\n"
          ]
        }
      ]
    },
    {
      "cell_type": "code",
      "source": [
        "from sklearn.ensemble import RandomForestClassifier\n",
        "# Use the random grid to search for best hyperparameters\n",
        "# First create the base model to tune\n",
        "rf = RandomForestClassifier()\n",
        "# Random search of parameters, using 3 fold cross validation\n",
        "rf_grid = grid_search = GridSearchCV(estimator = rf, param_grid = param_grid, cv = 3, n_jobs = -1, verbose = 2) # Fit the random search model\n",
        "rf_grid.fit(X_train, y_train)"
      ],
      "metadata": {
        "colab": {
          "base_uri": "https://localhost:8080/",
          "height": 135
        },
        "id": "wYOfWWLBACpp",
        "outputId": "ebed5607-04c2-4622-b89d-5bffc04e02ba"
      },
      "execution_count": null,
      "outputs": [
        {
          "output_type": "stream",
          "name": "stdout",
          "text": [
            "Fitting 3 folds for each of 288 candidates, totalling 864 fits\n"
          ]
        },
        {
          "output_type": "execute_result",
          "data": {
            "text/plain": [
              "GridSearchCV(cv=3, estimator=RandomForestClassifier(), n_jobs=-1,\n",
              "             param_grid={'bootstrap': [True], 'max_depth': [80, 90, 100, 110],\n",
              "                         'max_features': [2, 3], 'min_samples_leaf': [3, 4, 5],\n",
              "                         'min_samples_split': [8, 10, 12],\n",
              "                         'n_estimators': [100, 200, 300, 1000]},\n",
              "             verbose=2)"
            ],
            "text/html": [
              "<style>#sk-container-id-2 {color: black;background-color: white;}#sk-container-id-2 pre{padding: 0;}#sk-container-id-2 div.sk-toggleable {background-color: white;}#sk-container-id-2 label.sk-toggleable__label {cursor: pointer;display: block;width: 100%;margin-bottom: 0;padding: 0.3em;box-sizing: border-box;text-align: center;}#sk-container-id-2 label.sk-toggleable__label-arrow:before {content: \"▸\";float: left;margin-right: 0.25em;color: #696969;}#sk-container-id-2 label.sk-toggleable__label-arrow:hover:before {color: black;}#sk-container-id-2 div.sk-estimator:hover label.sk-toggleable__label-arrow:before {color: black;}#sk-container-id-2 div.sk-toggleable__content {max-height: 0;max-width: 0;overflow: hidden;text-align: left;background-color: #f0f8ff;}#sk-container-id-2 div.sk-toggleable__content pre {margin: 0.2em;color: black;border-radius: 0.25em;background-color: #f0f8ff;}#sk-container-id-2 input.sk-toggleable__control:checked~div.sk-toggleable__content {max-height: 200px;max-width: 100%;overflow: auto;}#sk-container-id-2 input.sk-toggleable__control:checked~label.sk-toggleable__label-arrow:before {content: \"▾\";}#sk-container-id-2 div.sk-estimator input.sk-toggleable__control:checked~label.sk-toggleable__label {background-color: #d4ebff;}#sk-container-id-2 div.sk-label input.sk-toggleable__control:checked~label.sk-toggleable__label {background-color: #d4ebff;}#sk-container-id-2 input.sk-hidden--visually {border: 0;clip: rect(1px 1px 1px 1px);clip: rect(1px, 1px, 1px, 1px);height: 1px;margin: -1px;overflow: hidden;padding: 0;position: absolute;width: 1px;}#sk-container-id-2 div.sk-estimator {font-family: monospace;background-color: #f0f8ff;border: 1px dotted black;border-radius: 0.25em;box-sizing: border-box;margin-bottom: 0.5em;}#sk-container-id-2 div.sk-estimator:hover {background-color: #d4ebff;}#sk-container-id-2 div.sk-parallel-item::after {content: \"\";width: 100%;border-bottom: 1px solid gray;flex-grow: 1;}#sk-container-id-2 div.sk-label:hover label.sk-toggleable__label {background-color: #d4ebff;}#sk-container-id-2 div.sk-serial::before {content: \"\";position: absolute;border-left: 1px solid gray;box-sizing: border-box;top: 0;bottom: 0;left: 50%;z-index: 0;}#sk-container-id-2 div.sk-serial {display: flex;flex-direction: column;align-items: center;background-color: white;padding-right: 0.2em;padding-left: 0.2em;position: relative;}#sk-container-id-2 div.sk-item {position: relative;z-index: 1;}#sk-container-id-2 div.sk-parallel {display: flex;align-items: stretch;justify-content: center;background-color: white;position: relative;}#sk-container-id-2 div.sk-item::before, #sk-container-id-2 div.sk-parallel-item::before {content: \"\";position: absolute;border-left: 1px solid gray;box-sizing: border-box;top: 0;bottom: 0;left: 50%;z-index: -1;}#sk-container-id-2 div.sk-parallel-item {display: flex;flex-direction: column;z-index: 1;position: relative;background-color: white;}#sk-container-id-2 div.sk-parallel-item:first-child::after {align-self: flex-end;width: 50%;}#sk-container-id-2 div.sk-parallel-item:last-child::after {align-self: flex-start;width: 50%;}#sk-container-id-2 div.sk-parallel-item:only-child::after {width: 0;}#sk-container-id-2 div.sk-dashed-wrapped {border: 1px dashed gray;margin: 0 0.4em 0.5em 0.4em;box-sizing: border-box;padding-bottom: 0.4em;background-color: white;}#sk-container-id-2 div.sk-label label {font-family: monospace;font-weight: bold;display: inline-block;line-height: 1.2em;}#sk-container-id-2 div.sk-label-container {text-align: center;}#sk-container-id-2 div.sk-container {/* jupyter's `normalize.less` sets `[hidden] { display: none; }` but bootstrap.min.css set `[hidden] { display: none !important; }` so we also need the `!important` here to be able to override the default hidden behavior on the sphinx rendered scikit-learn.org. See: https://github.com/scikit-learn/scikit-learn/issues/21755 */display: inline-block !important;position: relative;}#sk-container-id-2 div.sk-text-repr-fallback {display: none;}</style><div id=\"sk-container-id-2\" class=\"sk-top-container\"><div class=\"sk-text-repr-fallback\"><pre>GridSearchCV(cv=3, estimator=RandomForestClassifier(), n_jobs=-1,\n",
              "             param_grid={&#x27;bootstrap&#x27;: [True], &#x27;max_depth&#x27;: [80, 90, 100, 110],\n",
              "                         &#x27;max_features&#x27;: [2, 3], &#x27;min_samples_leaf&#x27;: [3, 4, 5],\n",
              "                         &#x27;min_samples_split&#x27;: [8, 10, 12],\n",
              "                         &#x27;n_estimators&#x27;: [100, 200, 300, 1000]},\n",
              "             verbose=2)</pre><b>In a Jupyter environment, please rerun this cell to show the HTML representation or trust the notebook. <br />On GitHub, the HTML representation is unable to render, please try loading this page with nbviewer.org.</b></div><div class=\"sk-container\" hidden><div class=\"sk-item sk-dashed-wrapped\"><div class=\"sk-label-container\"><div class=\"sk-label sk-toggleable\"><input class=\"sk-toggleable__control sk-hidden--visually\" id=\"sk-estimator-id-4\" type=\"checkbox\" ><label for=\"sk-estimator-id-4\" class=\"sk-toggleable__label sk-toggleable__label-arrow\">GridSearchCV</label><div class=\"sk-toggleable__content\"><pre>GridSearchCV(cv=3, estimator=RandomForestClassifier(), n_jobs=-1,\n",
              "             param_grid={&#x27;bootstrap&#x27;: [True], &#x27;max_depth&#x27;: [80, 90, 100, 110],\n",
              "                         &#x27;max_features&#x27;: [2, 3], &#x27;min_samples_leaf&#x27;: [3, 4, 5],\n",
              "                         &#x27;min_samples_split&#x27;: [8, 10, 12],\n",
              "                         &#x27;n_estimators&#x27;: [100, 200, 300, 1000]},\n",
              "             verbose=2)</pre></div></div></div><div class=\"sk-parallel\"><div class=\"sk-parallel-item\"><div class=\"sk-item\"><div class=\"sk-label-container\"><div class=\"sk-label sk-toggleable\"><input class=\"sk-toggleable__control sk-hidden--visually\" id=\"sk-estimator-id-5\" type=\"checkbox\" ><label for=\"sk-estimator-id-5\" class=\"sk-toggleable__label sk-toggleable__label-arrow\">estimator: RandomForestClassifier</label><div class=\"sk-toggleable__content\"><pre>RandomForestClassifier()</pre></div></div></div><div class=\"sk-serial\"><div class=\"sk-item\"><div class=\"sk-estimator sk-toggleable\"><input class=\"sk-toggleable__control sk-hidden--visually\" id=\"sk-estimator-id-6\" type=\"checkbox\" ><label for=\"sk-estimator-id-6\" class=\"sk-toggleable__label sk-toggleable__label-arrow\">RandomForestClassifier</label><div class=\"sk-toggleable__content\"><pre>RandomForestClassifier()</pre></div></div></div></div></div></div></div></div></div></div>"
            ]
          },
          "metadata": {},
          "execution_count": 19
        }
      ]
    },
    {
      "cell_type": "code",
      "source": [
        "rfy_hat= rf_grid.predict(X_test)\n",
        "\n",
        "rf_gridtest = accuracy_score(y_test, rfy_hat)\n",
        "print(\"Accuracy score for the test set={:.2f}%\".format(rf_gridtest*100))\n",
        "\n",
        "# check against train set to see overfitting:\n",
        "# the parameters would put actual values, then the predicted value\n",
        "# when the difference between train and test > 10% would be overfitting\n",
        "# underfitting: too simple model, 40%-50% accuracy (considered very bad)\n",
        "rfy2_hat= rf_grid.predict(X_train)\n",
        "rf_gridtrain = accuracy_score(y_train, rfy2_hat)\n",
        "print(\"Accuracy score for the train set={:.2f}%\".format(rf_gridtrain*100))\n",
        "\n",
        "#Check difference to see if it overfits or underfits\n",
        "print(\"Difference: = {:.2f}%\".format(rf_gridtrain-rf_gridtest))"
      ],
      "metadata": {
        "colab": {
          "base_uri": "https://localhost:8080/"
        },
        "id": "Z8J4WZLdAZ2V",
        "outputId": "28d4b1ac-64d3-44c8-8e52-7d7d2c40c92e"
      },
      "execution_count": null,
      "outputs": [
        {
          "output_type": "stream",
          "name": "stdout",
          "text": [
            "Accuracy score for the test set=100.00%\n",
            "Accuracy score for the train set=100.00%\n",
            "Difference: = 0.00%\n"
          ]
        }
      ]
    },
    {
      "cell_type": "code",
      "source": [
        "rf_grid.best_params_"
      ],
      "metadata": {
        "colab": {
          "base_uri": "https://localhost:8080/"
        },
        "id": "QfdLPGv0V3pa",
        "outputId": "fd14e9c5-f241-452a-f150-ccc74b52d9ed"
      },
      "execution_count": null,
      "outputs": [
        {
          "output_type": "execute_result",
          "data": {
            "text/plain": [
              "{'bootstrap': True,\n",
              " 'max_depth': 90,\n",
              " 'max_features': 3,\n",
              " 'min_samples_leaf': 3,\n",
              " 'min_samples_split': 8,\n",
              " 'n_estimators': 100}"
            ]
          },
          "metadata": {},
          "execution_count": 21
        }
      ]
    },
    {
      "cell_type": "markdown",
      "source": [
        "### RandomizedSearchCV"
      ],
      "metadata": {
        "id": "Mv7dx8e--1l4"
      }
    },
    {
      "cell_type": "code",
      "source": [
        "from sklearn.model_selection import RandomizedSearchCV\n",
        "# Number of trees in random forest\n",
        "n_estimators = [int(x) for x in np.linspace(start = 200, stop = 2000, num = 10)]\n",
        "# Number of features to consider at every split\n",
        "max_features = ['auto', 'sqrt']\n",
        "# Maximum number of levels in tree\n",
        "max_depth = [int(x) for x in np.linspace(10, 110, num = 11)]\n",
        "max_depth.append(None)\n",
        "# Minimum number of samples required to split a node\n",
        "min_samples_split = [2, 5, 10]\n",
        "# Minimum number of samples required at each leaf node\n",
        "min_samples_leaf = [1, 2, 4]\n",
        "# Method of selecting samples for training each tree\n",
        "bootstrap = [True, False]\n",
        "# Create the random grid\n",
        "random_grid = {'n_estimators': n_estimators,\n",
        "               'max_features': max_features,\n",
        "               'max_depth': max_depth,\n",
        "               'min_samples_split': min_samples_split,\n",
        "               'min_samples_leaf': min_samples_leaf,\n",
        "               'bootstrap': bootstrap}\n",
        "print(random_grid)"
      ],
      "metadata": {
        "colab": {
          "base_uri": "https://localhost:8080/"
        },
        "id": "es7fvK8p8eoa",
        "outputId": "b332351d-31c6-49de-b0c6-75e3e99ccbdf"
      },
      "execution_count": null,
      "outputs": [
        {
          "output_type": "stream",
          "name": "stdout",
          "text": [
            "{'n_estimators': [200, 400, 600, 800, 1000, 1200, 1400, 1600, 1800, 2000], 'max_features': ['auto', 'sqrt'], 'max_depth': [10, 20, 30, 40, 50, 60, 70, 80, 90, 100, 110, None], 'min_samples_split': [2, 5, 10], 'min_samples_leaf': [1, 2, 4], 'bootstrap': [True, False]}\n"
          ]
        }
      ]
    },
    {
      "cell_type": "code",
      "source": [
        "from sklearn.ensemble import RandomForestClassifier\n",
        "# Use the random grid to search for best hyperparameters\n",
        "# First create the base model to tune\n",
        "rf = RandomForestClassifier()\n",
        "# Random search of parameters, using 3 fold cross validation,\n",
        "# search across 100 different combinations, and use all available cores\n",
        "rf_random = RandomizedSearchCV(estimator = rf, param_distributions = random_grid, n_iter = 100, cv = 3, verbose=2, random_state=42, n_jobs = -1)\n",
        "# Fit the random search model\n",
        "rf_random.fit(X_train, y_train)"
      ],
      "metadata": {
        "colab": {
          "base_uri": "https://localhost:8080/",
          "height": 135
        },
        "id": "quS5liOj-MTN",
        "outputId": "372ef2d2-1cac-457a-be30-e1c3006b31b6"
      },
      "execution_count": null,
      "outputs": [
        {
          "output_type": "stream",
          "name": "stdout",
          "text": [
            "Fitting 3 folds for each of 100 candidates, totalling 300 fits\n"
          ]
        },
        {
          "output_type": "execute_result",
          "data": {
            "text/plain": [
              "RandomizedSearchCV(cv=3, estimator=RandomForestClassifier(), n_iter=100,\n",
              "                   n_jobs=-1,\n",
              "                   param_distributions={'bootstrap': [True, False],\n",
              "                                        'max_depth': [10, 20, 30, 40, 50, 60,\n",
              "                                                      70, 80, 90, 100, 110,\n",
              "                                                      None],\n",
              "                                        'max_features': ['auto', 'sqrt'],\n",
              "                                        'min_samples_leaf': [1, 2, 4],\n",
              "                                        'min_samples_split': [2, 5, 10],\n",
              "                                        'n_estimators': [200, 400, 600, 800,\n",
              "                                                         1000, 1200, 1400, 1600,\n",
              "                                                         1800, 2000]},\n",
              "                   random_state=42, verbose=2)"
            ],
            "text/html": [
              "<style>#sk-container-id-1 {color: black;background-color: white;}#sk-container-id-1 pre{padding: 0;}#sk-container-id-1 div.sk-toggleable {background-color: white;}#sk-container-id-1 label.sk-toggleable__label {cursor: pointer;display: block;width: 100%;margin-bottom: 0;padding: 0.3em;box-sizing: border-box;text-align: center;}#sk-container-id-1 label.sk-toggleable__label-arrow:before {content: \"▸\";float: left;margin-right: 0.25em;color: #696969;}#sk-container-id-1 label.sk-toggleable__label-arrow:hover:before {color: black;}#sk-container-id-1 div.sk-estimator:hover label.sk-toggleable__label-arrow:before {color: black;}#sk-container-id-1 div.sk-toggleable__content {max-height: 0;max-width: 0;overflow: hidden;text-align: left;background-color: #f0f8ff;}#sk-container-id-1 div.sk-toggleable__content pre {margin: 0.2em;color: black;border-radius: 0.25em;background-color: #f0f8ff;}#sk-container-id-1 input.sk-toggleable__control:checked~div.sk-toggleable__content {max-height: 200px;max-width: 100%;overflow: auto;}#sk-container-id-1 input.sk-toggleable__control:checked~label.sk-toggleable__label-arrow:before {content: \"▾\";}#sk-container-id-1 div.sk-estimator input.sk-toggleable__control:checked~label.sk-toggleable__label {background-color: #d4ebff;}#sk-container-id-1 div.sk-label input.sk-toggleable__control:checked~label.sk-toggleable__label {background-color: #d4ebff;}#sk-container-id-1 input.sk-hidden--visually {border: 0;clip: rect(1px 1px 1px 1px);clip: rect(1px, 1px, 1px, 1px);height: 1px;margin: -1px;overflow: hidden;padding: 0;position: absolute;width: 1px;}#sk-container-id-1 div.sk-estimator {font-family: monospace;background-color: #f0f8ff;border: 1px dotted black;border-radius: 0.25em;box-sizing: border-box;margin-bottom: 0.5em;}#sk-container-id-1 div.sk-estimator:hover {background-color: #d4ebff;}#sk-container-id-1 div.sk-parallel-item::after {content: \"\";width: 100%;border-bottom: 1px solid gray;flex-grow: 1;}#sk-container-id-1 div.sk-label:hover label.sk-toggleable__label {background-color: #d4ebff;}#sk-container-id-1 div.sk-serial::before {content: \"\";position: absolute;border-left: 1px solid gray;box-sizing: border-box;top: 0;bottom: 0;left: 50%;z-index: 0;}#sk-container-id-1 div.sk-serial {display: flex;flex-direction: column;align-items: center;background-color: white;padding-right: 0.2em;padding-left: 0.2em;position: relative;}#sk-container-id-1 div.sk-item {position: relative;z-index: 1;}#sk-container-id-1 div.sk-parallel {display: flex;align-items: stretch;justify-content: center;background-color: white;position: relative;}#sk-container-id-1 div.sk-item::before, #sk-container-id-1 div.sk-parallel-item::before {content: \"\";position: absolute;border-left: 1px solid gray;box-sizing: border-box;top: 0;bottom: 0;left: 50%;z-index: -1;}#sk-container-id-1 div.sk-parallel-item {display: flex;flex-direction: column;z-index: 1;position: relative;background-color: white;}#sk-container-id-1 div.sk-parallel-item:first-child::after {align-self: flex-end;width: 50%;}#sk-container-id-1 div.sk-parallel-item:last-child::after {align-self: flex-start;width: 50%;}#sk-container-id-1 div.sk-parallel-item:only-child::after {width: 0;}#sk-container-id-1 div.sk-dashed-wrapped {border: 1px dashed gray;margin: 0 0.4em 0.5em 0.4em;box-sizing: border-box;padding-bottom: 0.4em;background-color: white;}#sk-container-id-1 div.sk-label label {font-family: monospace;font-weight: bold;display: inline-block;line-height: 1.2em;}#sk-container-id-1 div.sk-label-container {text-align: center;}#sk-container-id-1 div.sk-container {/* jupyter's `normalize.less` sets `[hidden] { display: none; }` but bootstrap.min.css set `[hidden] { display: none !important; }` so we also need the `!important` here to be able to override the default hidden behavior on the sphinx rendered scikit-learn.org. See: https://github.com/scikit-learn/scikit-learn/issues/21755 */display: inline-block !important;position: relative;}#sk-container-id-1 div.sk-text-repr-fallback {display: none;}</style><div id=\"sk-container-id-1\" class=\"sk-top-container\"><div class=\"sk-text-repr-fallback\"><pre>RandomizedSearchCV(cv=3, estimator=RandomForestClassifier(), n_iter=100,\n",
              "                   n_jobs=-1,\n",
              "                   param_distributions={&#x27;bootstrap&#x27;: [True, False],\n",
              "                                        &#x27;max_depth&#x27;: [10, 20, 30, 40, 50, 60,\n",
              "                                                      70, 80, 90, 100, 110,\n",
              "                                                      None],\n",
              "                                        &#x27;max_features&#x27;: [&#x27;auto&#x27;, &#x27;sqrt&#x27;],\n",
              "                                        &#x27;min_samples_leaf&#x27;: [1, 2, 4],\n",
              "                                        &#x27;min_samples_split&#x27;: [2, 5, 10],\n",
              "                                        &#x27;n_estimators&#x27;: [200, 400, 600, 800,\n",
              "                                                         1000, 1200, 1400, 1600,\n",
              "                                                         1800, 2000]},\n",
              "                   random_state=42, verbose=2)</pre><b>In a Jupyter environment, please rerun this cell to show the HTML representation or trust the notebook. <br />On GitHub, the HTML representation is unable to render, please try loading this page with nbviewer.org.</b></div><div class=\"sk-container\" hidden><div class=\"sk-item sk-dashed-wrapped\"><div class=\"sk-label-container\"><div class=\"sk-label sk-toggleable\"><input class=\"sk-toggleable__control sk-hidden--visually\" id=\"sk-estimator-id-1\" type=\"checkbox\" ><label for=\"sk-estimator-id-1\" class=\"sk-toggleable__label sk-toggleable__label-arrow\">RandomizedSearchCV</label><div class=\"sk-toggleable__content\"><pre>RandomizedSearchCV(cv=3, estimator=RandomForestClassifier(), n_iter=100,\n",
              "                   n_jobs=-1,\n",
              "                   param_distributions={&#x27;bootstrap&#x27;: [True, False],\n",
              "                                        &#x27;max_depth&#x27;: [10, 20, 30, 40, 50, 60,\n",
              "                                                      70, 80, 90, 100, 110,\n",
              "                                                      None],\n",
              "                                        &#x27;max_features&#x27;: [&#x27;auto&#x27;, &#x27;sqrt&#x27;],\n",
              "                                        &#x27;min_samples_leaf&#x27;: [1, 2, 4],\n",
              "                                        &#x27;min_samples_split&#x27;: [2, 5, 10],\n",
              "                                        &#x27;n_estimators&#x27;: [200, 400, 600, 800,\n",
              "                                                         1000, 1200, 1400, 1600,\n",
              "                                                         1800, 2000]},\n",
              "                   random_state=42, verbose=2)</pre></div></div></div><div class=\"sk-parallel\"><div class=\"sk-parallel-item\"><div class=\"sk-item\"><div class=\"sk-label-container\"><div class=\"sk-label sk-toggleable\"><input class=\"sk-toggleable__control sk-hidden--visually\" id=\"sk-estimator-id-2\" type=\"checkbox\" ><label for=\"sk-estimator-id-2\" class=\"sk-toggleable__label sk-toggleable__label-arrow\">estimator: RandomForestClassifier</label><div class=\"sk-toggleable__content\"><pre>RandomForestClassifier()</pre></div></div></div><div class=\"sk-serial\"><div class=\"sk-item\"><div class=\"sk-estimator sk-toggleable\"><input class=\"sk-toggleable__control sk-hidden--visually\" id=\"sk-estimator-id-3\" type=\"checkbox\" ><label for=\"sk-estimator-id-3\" class=\"sk-toggleable__label sk-toggleable__label-arrow\">RandomForestClassifier</label><div class=\"sk-toggleable__content\"><pre>RandomForestClassifier()</pre></div></div></div></div></div></div></div></div></div></div>"
            ]
          },
          "metadata": {},
          "execution_count": 14
        }
      ]
    },
    {
      "cell_type": "code",
      "source": [
        "from sklearn.metrics import accuracy_score\n",
        "rfy_hat= rf_random.predict(X_test)\n",
        "\n",
        "rf_randomtest = accuracy_score(y_test, rfy_hat)\n",
        "print(\"Accuracy score for the test set={:.2f}%\".format(rf_randomtest*100))\n",
        "\n",
        "# check against train set to see overfitting:\n",
        "# the parameters would put actual values, then the predicted value\n",
        "# when the difference between train and test > 10% would be overfitting\n",
        "# underfitting: too simple model, 40%-50% accuracy (considered very bad)\n",
        "rfy2_hat= rf_random.predict(X_train)\n",
        "rf_randomtrain = accuracy_score(y_train, rfy2_hat)\n",
        "print(\"Accuracy score for the train set={:.2f}%\".format(rf_randomtrain*100))\n",
        "\n",
        "#Check difference to see if it overfits or underfits\n",
        "print(\"Difference: = {:.2f}%\".format(rf_randomtrain-rf_randomtest))"
      ],
      "metadata": {
        "colab": {
          "base_uri": "https://localhost:8080/"
        },
        "id": "w9kmd7Az_E24",
        "outputId": "ab21f33f-a35a-4eb3-e9a1-2644044f193f"
      },
      "execution_count": null,
      "outputs": [
        {
          "output_type": "stream",
          "name": "stdout",
          "text": [
            "Accuracy score for the test set=100.00%\n",
            "Accuracy score for the train set=100.00%\n",
            "Difference: = 0.00%\n"
          ]
        }
      ]
    },
    {
      "cell_type": "code",
      "source": [
        "rf_random.best_params_"
      ],
      "metadata": {
        "colab": {
          "base_uri": "https://localhost:8080/"
        },
        "id": "pcKbYaNS-jnC",
        "outputId": "7ba00199-19f2-4f5e-a448-349aa28257d2"
      },
      "execution_count": null,
      "outputs": [
        {
          "output_type": "execute_result",
          "data": {
            "text/plain": [
              "{'n_estimators': 400,\n",
              " 'min_samples_split': 5,\n",
              " 'min_samples_leaf': 1,\n",
              " 'max_features': 'sqrt',\n",
              " 'max_depth': 30,\n",
              " 'bootstrap': True}"
            ]
          },
          "metadata": {},
          "execution_count": 17
        }
      ]
    },
    {
      "cell_type": "markdown",
      "source": [
        "Both did equally well where they both reach an accuracy score of 100.\n",
        "<br>\n",
        "However, if have to compare which does better, randomizedsearchcv did better.\n",
        "<br>\n",
        "Why? it took lesser time and try a few combinations and still achieve the same result as gridsearchcv.\n",
        "<br>\n",
        "Gridsearchcv uses all combination whereas randomizedsearchcv tries random combinations of a range of values"
      ],
      "metadata": {
        "id": "vynaZz3TV-N_"
      }
    },
    {
      "cell_type": "markdown",
      "metadata": {
        "id": "mhuw9Wy0k_9w"
      },
      "source": [
        "## Some Explorations"
      ]
    },
    {
      "cell_type": "markdown",
      "metadata": {
        "id": "uPAXZnZfKlLU"
      },
      "source": [
        "### How is your prediction task defined? And what is the meaning of the output variable?\n",
        "- Having class as the target, which contain inputs e and p\n",
        "- Edible = e, Poisonous = p\n",
        "- To predict whether a mushroom is edible or poisonous with the help of different features to determine them."
      ]
    },
    {
      "cell_type": "markdown",
      "metadata": {
        "id": "zu2zvpjDKlH_"
      },
      "source": [
        "### How do you represent your data as features?\n",
        "- We first differentiate them by their datatypes\n",
        "- Encode categorical data"
      ]
    },
    {
      "cell_type": "markdown",
      "metadata": {
        "id": "Kb6E-fkRKlE7"
      },
      "source": [
        "### How did you select which learning algorithms to use?\n",
        "- See if the learning algorithm is suitable for mushroom classification (Classifier learning algorithms)\n",
        "- Compare them with their default state and choose the best evaluation score for testing set\n",
        "- Then, the difference evaluation score when testing against train set (closest to 0)"
      ]
    },
    {
      "cell_type": "markdown",
      "metadata": {
        "id": "clyaqey4Kk7K"
      },
      "source": [
        "### How do you evaluate the quality of your system?\n",
        "- Added the accuracy score, but that is not enough.\n",
        "- We added confusion matrix and the AUC score, to see the true/false postives/negatives."
      ]
    },
    {
      "cell_type": "markdown",
      "source": [
        "## References"
      ],
      "metadata": {
        "id": "a1iLPwDKA4wH"
      }
    },
    {
      "cell_type": "markdown",
      "source": [
        "- Data Prep:\n",
        "  - https://www.kaggle.com/datasets/uciml/mushroom-classification\n",
        "  - https://datatofish.com/replace-values-pandas-dataframe/\n",
        "\n",
        "- EDA:\n",
        "  - https://www.w3schools.com/python/python_functions.asp\n",
        "  - https://seaborn.pydata.org/generated/seaborn.barplot.html\n",
        "\n",
        "- Model Training:\n",
        "  - https://scikit-learn.org/stable/modules/generated/sklearn.linear_model.LogisticRegression.html\n",
        "  - https://scikit-learn.org/stable/modules/generated/sklearn.ensemble.RandomForestClassifier.html\n",
        "  - https://scikit-learn.org/stable/modules/generated/sklearn.svm.SVC.html\n",
        "\n",
        "- Evaluation:\n",
        "  - https://medium.com/@dtuk81/confusion-matrix-visualization-fc31e3f30fea\n",
        "  - https://scikit-learn.org/stable/modules/cross_validation.html\n",
        "\n",
        "- Additional Exploration:\n",
        "  - https://towardsdatascience.com/hyperparameter-tuning-the-random-forest-in-python-using-scikit-learn-28d2aa77dd74\n",
        "  - https://www.kaggle.com/general/212697"
      ],
      "metadata": {
        "id": "Yari503oA9ZT"
      }
    }
  ],
  "metadata": {
    "colab": {
      "provenance": [],
      "include_colab_link": true
    },
    "kernelspec": {
      "display_name": "Python 3",
      "name": "python3"
    },
    "language_info": {
      "name": "python"
    }
  },
  "nbformat": 4,
  "nbformat_minor": 0
}